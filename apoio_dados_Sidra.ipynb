{
  "nbformat": 4,
  "nbformat_minor": 0,
  "metadata": {
    "colab": {
      "provenance": [],
      "authorship_tag": "ABX9TyMbuCYkM5P0ZsKMnQi1DtNO",
      "include_colab_link": true
    },
    "kernelspec": {
      "name": "python3",
      "display_name": "Python 3"
    },
    "language_info": {
      "name": "python"
    }
  },
  "cells": [
    {
      "cell_type": "markdown",
      "metadata": {
        "id": "view-in-github",
        "colab_type": "text"
      },
      "source": [
        "<a href=\"https://colab.research.google.com/github/clarissa-souza/Airflow-Postgres-Docker/blob/main/apoio_dados_Sidra.ipynb\" target=\"_parent\"><img src=\"https://colab.research.google.com/assets/colab-badge.svg\" alt=\"Open In Colab\"/></a>"
      ]
    },
    {
      "cell_type": "code",
      "execution_count": null,
      "metadata": {
        "id": "BnKr8IWtmftT"
      },
      "outputs": [],
      "source": [
        "import urllib3\n",
        "import pandas as pd\n",
        "import json\n",
        "from datetime import datetime"
      ]
    },
    {
      "cell_type": "markdown",
      "source": [
        "# Consumir API Sidra e gravar no diretório local"
      ],
      "metadata": {
        "id": "C7SEEVF7KI8i"
      }
    },
    {
      "cell_type": "code",
      "source": [
        "http=urllib3.PoolManager()\n",
        "urlPortalAPI='http://api.sidra.ibge.gov.br/values/t/1618/n1/all/v/all/p/all/c49/all/c48/all?formato=json'\n",
        "response = http.request('GET',urlPortalAPI)"
      ],
      "metadata": {
        "colab": {
          "base_uri": "https://localhost:8080/"
        },
        "id": "1WI0nIaKqzL3",
        "outputId": "1f2e3277-6b32-4b7f-f5aa-eeaa717b85ad"
      },
      "execution_count": null,
      "outputs": [
        {
          "output_type": "stream",
          "name": "stderr",
          "text": [
            "/usr/local/lib/python3.8/dist-packages/urllib3/connectionpool.py:842: InsecureRequestWarning: Unverified HTTPS request is being made. Adding certificate verification is strongly advised. See: https://urllib3.readthedocs.io/en/latest/advanced-usage.html#ssl-warnings\n",
            "  warnings.warn((\n"
          ]
        }
      ]
    },
    {
      "cell_type": "code",
      "source": [
        "print(response.status)"
      ],
      "metadata": {
        "colab": {
          "base_uri": "https://localhost:8080/"
        },
        "id": "b9o6VO2onbsr",
        "outputId": "132ce968-80dd-4e2c-c0e2-5c627b6ca952"
      },
      "execution_count": null,
      "outputs": [
        {
          "output_type": "stream",
          "name": "stdout",
          "text": [
            "200\n"
          ]
        }
      ]
    },
    {
      "cell_type": "code",
      "source": [
        "dataResponse=response.data.decode('utf-8')"
      ],
      "metadata": {
        "id": "Nj8bmz7Gnx9c"
      },
      "execution_count": null,
      "outputs": []
    },
    {
      "cell_type": "code",
      "source": [
        "dataResponse"
      ],
      "metadata": {
        "colab": {
          "base_uri": "https://localhost:8080/",
          "height": 105
        },
        "id": "SoMyLG3dn8wk",
        "outputId": "f2987294-94c0-4472-d653-47c808280c73"
      },
      "execution_count": null,
      "outputs": [
        {
          "output_type": "execute_result",
          "data": {
            "text/plain": [
              "'[{\"NC\":\"Nível Territorial (Código)\",\"NN\":\"Nível Territorial\",\"MC\":\"Unidade de Medida (Código)\",\"MN\":\"Unidade de Medida\",\"V\":\"Valor\",\"D1C\":\"Brasil (Código)\",\"D1N\":\"Brasil\",\"D2C\":\"Variável (Código)\",\"D2N\":\"Variável\",\"D3C\":\"Mês (Código)\",\"D3N\":\"Mês\",\"D4C\":\"Ano da safra (Código)\",\"D4N\":\"Ano da safra\",\"D5C\":\"Produto das lavouras (Código)\",\"D5N\":\"Produto das lavouras\"},{\"NC\":\"1\",\"NN\":\"Brasil\",\"MC\":\"1006\",\"MN\":\"Hectares\",\"V\":\"83856075\",\"D1C\":\"1\",\"D1N\":\"Brasil\",\"D2C\":\"109\",\"D2N\":\"Área plantada\",\"D3C\":\"202211\",\"D3N\":\"novembro 2022\",\"D4C\":\"48584\",\"D4N\":\"Safra 2021\",\"D5C\":\"0\",\"D5N\":\"Total\"},{\"NC\":\"1\",\"NN\":\"Brasil\",\"MC\":\"1006\",\"MN\":\"Hectares\",\"V\":\"69130271\",\"D1C\":\"1\",\"D1N\":\"Brasil\",\"D2C\":\"109\",\"D2N\":\"Área plantada\",\"D3C\":\"202211\",\"D3N\":\"novembro 2022\",\"D4C\":\"48584\",\"D4N\":\"Safra 2021\",\"D5C\":\"39428\",\"D5N\":\"1 Cereais, leguminosas e oleaginosas\"},{\"NC\":\"1\",\"NN\":\"Brasil\",\"MC\":\"1006\",\"MN\":\"Hectares\",\"V\":\"1376225\",\"D1C\":\"1\",\"D1N\":\"Brasil\",\"D2C\":\"109\",\"D2N\":\"Área plantada\",\"D3C\":\"202211\",\"D3N\":\"novembro 2022\",\"D4C\":\"48584\",\"D4N\":\"Safra 2021\",\"D5C\":\"39429\",\"D5N\":\"1.1 Algodão herbáceo\"},{\"NC\":\"1\",\"NN\":\"Brasil\",\"MC\":\"1006\",\"MN\":\"Hectares\",\"V\":\"174421\",\"D1C\":\"1\",\"D1N\":\"Brasil\",\"D2C\":\"109\",\"D2N\":\"Área plantada\",\"D3C\":\"202211\",\"D3N\":\"novembro 2022\",\"D4C\":\"48584\",\"D4N\":\"Safra 2021\",\"D5C\":\"39430\",\"D5N\":\"1.2 Amendoim (1ª Safra)\"},{\"NC\":\"1\",\"NN\":\"Brasil\",\"MC\":\"1006\",\"MN\":\"Hectares\",\"V\":\"6928\",\"D1C\":\"1\",\"D1N\":\"Brasil\",\"D2C\":\"109\",\"D2N\":\"Área plantada\",\"D3C\":\"202211\",\"D3N\":\"novembro 2022\",\"D4C\":\"48584\",\"D4N\":\"Safra 2021\",\"D5C\":\"39431\",\"D5N\":\"1.3 Amendoim (2ª Safra)\"},{\"NC\":\"1\",\"NN\":\"Brasil\",\"MC\":\"1006\",\"MN\":\"Hectares\",\"V\":\"1680428\",\"D1C\":\"1\",\"D1N\":\"Brasil\",\"D2C\":\"109\",\"D2N\":\"Área plantada\",\"D3C\":\"202211\",\"D3N\":\"novembro 2022\",\"D4C\":\"48584\",\"D4N\":\"Safra 2021\",\"D5C\":\"39432\",\"D5N\":\"1.4 Arroz\"},{\"NC\":\"1\",\"NN\":\"Brasil\",\"MC\":\"1006\",\"MN\":\"Hectares\",\"V\":\"477008\",\"D1C\":\"1\",\"D1N\":\"Brasil\",\"D2C\":\"109\",\"D2N\":\"Área plantada\",\"D3C\":\"202211\",\"D3N\":\"novembro 2022\",\"D4C\":\"48584\",\"D4N\":\"Safra 2021\",\"D5C\":\"39433\",\"D5N\":\"1.5 Aveia\"},{\"NC\":\"1\",\"NN\":\"Brasil\",\"MC\":\"1006\",\"MN\":\"Hectares\",\"V\":\"4758\",\"D1C\":\"1\",\"D1N\":\"Brasil\",\"D2C\":\"109\",\"D2N\":\"Área plantada\",\"D3C\":\"202211\",\"D3N\":\"novembro 2022\",\"D4C\":\"48584\",\"D4N\":\"Safra 2021\",\"D5C\":\"39434\",\"D5N\":\"1.6 Centeio\"},{\"NC\":\"1\",\"NN\":\"Brasil\",\"MC\":\"1006\",\"MN\":\"Hectares\",\"V\":\"115065\",\"D1C\":\"1\",\"D1N\":\"Brasil\",\"D2C\":\"109\",\"D2N\":\"Área plantada\",\"D3C\":\"202211\",\"D3N\":\"novembro 2022\",\"D4C\":\"48584\",\"D4N\":\"Safra 2021\",\"D5C\":\"39435\",\"D5N\":\"1.7 Cevada\"},{\"NC\":\"1\",\"NN\":\"Brasil\",\"MC\":\"1006\",\"MN\":\"Hectares\",\"V\":\"1501953\",\"D1C\":\"1\",\"D1N\":\"Brasil\",\"D2C\":\"109\",\"D2N\":\"Área plantada\",\"D3C\":\"202211\",\"D3N\":\"novembro 2022\",\"D4C\":\"48584\",\"D4N\":\"Safra 2021\",\"D5C\":\"39436\",\"D5N\":\"1.8 Feijão (1ª Safra)\"},{\"NC\":\"1\",\"NN\":\"Brasil\",\"MC\":\"1006\",\"MN\":\"Hectares\",\"V\":\"1113171\",\"D1C\":\"1\",\"D1N\":\"Brasil\",\"D2C\":\"109\",\"D2N\":\"Área plantada\",\"D3C\":\"202211\",\"D3N\":\"novembro 2022\",\"D4C\":\"48584\",\"D4N\":\"Safra 2021\",\"D5C\":\"39437\",\"D5N\":\"1.9 Feijão (2ª Safra)\"},{\"NC\":\"1\",\"NN\":\"Brasil\",\"MC\":\"1006\",\"MN\":\"Hectares\",\"V\":\"215721\",\"D1C\":\"1\",\"D1N\":\"Brasil\",\"D2C\":\"109\",\"D2N\":\"Área plantada\",\"D3C\":\"202211\",\"D3N\":\"novembro 2022\",\"D4C\":\"48584\",\"D4N\":\"Safra 2021\",\"D5C\":\"39438\",\"D5N\":\"1.10 Feijão (3ª Safra)\"},{\"NC\":\"1\",\"NN\":\"Brasil\",\"MC\":\"1006\",\"MN\":\"Hectares\",\"V\":\"42047\",\"D1C\":\"1\",\"D1N\":\"Brasil\",\"D2C\":\"109\",\"D2N\":\"Área plantada\",\"D3C\":\"202211\",\"D3N\":\"novembro 2022\",\"D4C\":\"48584\",\"D4N\":\"Safra 2021\",\"D5C\":\"39439\",\"D5N\":\"1.11 Girassol\"},{\"NC\":\"1\",\"NN\":\"Brasil\",\"MC\":\"1006\",\"MN\":\"Hectares\",\"V\":\"46934\",\"D1C\":\"1\",\"D1N\":\"Brasil\",\"D2C\":\"109\",\"D2N\":\"Área plantada\",\"D3C\":\"202211\",\"D3N\":\"novembro 2022\",\"D4C\":\"48584\",\"D4N\":\"Safra 2021\",\"D5C\":\"39440\",\"D5N\":\"1.12 Mamona\"},{\"NC\":\"1\",\"NN\":\"Brasil\",\"MC\":\"1006\",\"MN\":\"Hectares\",\"V\":\"5081148\",\"D1C\":\"1\",\"D1N\":\"Brasil\",\"D2C\":\"109\",\"D2N\":\"Área plantada\",\"D3C\":\"202211\",\"D3N\":\"novembro 2022\",\"D4C\":\"48584\",\"D4N\":\"Safra 2021\",\"D5C\":\"39441\",\"D5N\":\"1.13 Milho (1ª Safra)\"},{\"NC\":\"1\",\"NN\":\"Brasil\",\"MC\":\"1006\",\"MN\":\"Hectares\",\"V\":\"14623294\",\"D1C\":\"1\",\"D1N\":\"Brasil\",\"D2C\":\"109\",\"D2N\":\"Área plantada\",\"D3C\":\"202211\",\"D3N\":\"novembro 2022\",\"D4C\":\"48584\",\"D4N\":\"Safra 2021\",\"D5C\":\"39442\",\"D5N\":\"1.14 Milho (2ª Safra)\"},{\"NC\":\"1\",\"NN\":\"Brasil\",\"MC\":\"1006\",\"MN\":\"Hectares\",\"V\":\"38988530\",\"D1C\":\"1\",\"D1N\":\"Brasil\",\"D2C\":\"109\",\"D2N\":\"Área plantada\",\"D3C\":\"202211\",\"D3N\":\"novembro 2022\",\"D4C\":\"48584\",\"D4N\":\"Safra 2021\",\"D5C\":\"39443\",\"D5N\":\"1.15 Soja\"},{\"NC\":\"1\",\"NN\":\"Brasil\",\"MC\":\"1006\",\"MN\":\"Hectares\",\"V\":\"868262\",\"D1C\":\"1\",\"D1N\":\"Brasil\",\"D2C\":\"109\",\"D2N\":\"Área plantada\",\"D3C\":\"202211\",\"D3N\":\"novembro 2022\",\"D4C\":\"48584\",\"D4N\":\"Safra 2021\",\"D5C\":\"39444\",\"D5N\":\"1.16 Sorgo\"},{\"NC\":\"1\",\"NN\":\"Brasil\",\"MC\":\"1006\",\"MN\":\"Hectares\",\"V\":\"2798360\",\"D1C\":\"1\",\"D1N\":\"Brasil\",\"D2C\":\"109\",\"D2N\":\"Área plantada\",\"D3C\":\"202211\",\"D3N\":\"novembro 2022\",\"D4C\":\"48584\",\"D4N\":\"Safra 2021\",\"D5C\":\"39445\",\"D5N\":\"1.17 Trigo\"},{\"NC\":\"1\",\"NN\":\"Brasil\",\"MC\":\"1006\",\"MN\":\"Hectares\",\"V\":\"16018\",\"D1C\":\"1\",\"D1N\":\"Brasil\",\"D2C\":\"109\",\"D2N\":\"Área plantada\",\"D3C\":\"202211\",\"D3N\":\"novembro 2022\",\"D4C\":\"48584\",\"D4N\":\"Safra 2021\",\"D5C\":\"39446\",\"D5N\":\"1.18 Triticale\"},{\"NC\":\"1\",\"NN\":\"Brasil\",\"MC\":\"1006\",\"MN\":\"Hectares\",\"V\":\"476064\",\"D1C\":\"1\",\"D1N\":\"Brasil\",\"D2C\":\"109\",\"D2N\":\"Área plantada\",\"D3C\":\"202211\",\"D3N\":\"novembro 2022\",\"D4C\":\"48584\",\"D4N\":\"Safra 2021\",\"D5C\":\"39449\",\"D5N\":\"4 Banana\"},{\"NC\":\"1\",\"NN\":\"Brasil\",\"MC\":\"1006\",\"MN\":\"Hectares\",\"V\":\"59330\",\"D1C\":\"1\",\"D1N\":\"Brasil\",\"D2C\":\"109\",\"D2N\":\"Área plantada\",\"D3C\":\"202211\",\"D3N\":\"novembro 2022\",\"D4C\":\"48584\",\"D4N\":\"Safra 2021\",\"D5C\":\"39450\",\"D5N\":\"5 Batata - inglesa (1ª Safra)\"},{\"NC\":\"1\",\"NN\":\"Brasil\",\"MC\":\"1006\",\"MN\":\"Hectares\",\"V\":\"39337\",\"D1C\":\"1\",\"D1N\":\"Brasil\",\"D2C\":\"109\",\"D2N\":\"Área plantada\",\"D3C\":\"202211\",\"D3N\":\"novembro 2022\",\"D4C\":\"48584\",\"D4N\":\"Safra 2021\",\"D5C\":\"39451\",\"D5N\":\"6 Batata - inglesa (2ª Safra)\"},{\"NC\":\"1\",\"NN\":\"Brasil\",\"MC\":\"1006\",\"MN\":\"Hectares\",\"V\":\"27019\",\"D1C\":\"1\",\"D1N\":\"Brasil\",\"D2C\":\"109\",\"D2N\":\"Área plantada\",\"D3C\":\"202211\",\"D3N\":\"novembro 2022\",\"D4C\":\"48584\",\"D4N\":\"Safra 2021\",\"D5C\":\"39452\",\"D5N\":\"7 Batata - inglesa (3ª Safra)\"},{\"NC\":\"1\",\"NN\":\"Brasil\",\"MC\":\"1006\",\"MN\":\"Hectares\",\"V\":\"617529\",\"D1C\":\"1\",\"D1N\":\"Brasil\",\"D2C\":\"109\",\"D2N\":\"Área plantada\",\"D3C\":\"202211\",\"D3N\":\"novembro 2022\",\"D4C\":\"48584\",\"D4N\":\"Safra 2021\",\"D5C\":\"39453\",\"D5N\":\"8 Cacau\"},{\"NC\":\"1\",\"NN\":\"Brasil\",\"MC\":\"1006\",\"MN\":\"Hectares\",\"V\":\"1448579\",\"D1C\":\"1\",\"D1N\":\"Brasil\",\"D2C\":\"109\",\"D2N\":\"Área plantada\",\"D3C\":\"202211\",\"D3N\":\"novembro 2022\",\"D4C\":\"48584\",\"D4N\":\"Safra 2021\",\"D5C\":\"39454\",\"D5N\":\"9 Café arábica\"},{\"NC\":\"1\",\"NN\":\"Brasil\",\"MC\":\"1006\",\"MN\":\"Hectares\",\"V\":\"400977\",\"D1C\":\"1\",\"D1N\":\"Brasil\",\"D2C\":\"109\",\"D2N\":\"Área plantada\",\"D3C\":\"202211\",\"D3N\":\"novembro 2022\",\"D4C\":\"48584\",\"D4N\":\"Safra 2021\",\"D5C\":\"39455\",\"D5N\":\"10 Café canephora\"},{\"NC\":\"1\",\"NN\":\"Brasil\",\"MC\":\"1006\",\"MN\":\"Hectares\",\"V\":\"8884003\",\"D1C\":\"1\",\"D1N\":\"Brasil\",\"D2C\":\"109\",\"D2N\":\"Área plantada\",\"D3C\":\"202211\",\"D3N\":\"novembro 2022\",\"D4C\":\"48584\",\"D4N\":\"Safra 2021\",\"D5C\":\"39456\",\"D5N\":\"11 Cana-de-açúcar\"},{\"NC\":\"1\",\"NN\":\"Brasil\",\"MC\":\"1006\",\"MN\":\"Hectares\",\"V\":\"427874\",\"D1C\":\"1\",\"D1N\":\"Brasil\",\"D2C\":\"109\",\"D2N\":\"Área plantada\",\"D3C\":\"202211\",\"D3N\":\"novembro 2022\",\"D4C\":\"48584\",\"D4N\":\"Safra 2021\",\"D5C\":\"39457\",\"D5N\":\"12 Castanha-de-caju\"},{\"NC\":\"1\",\"NN\":\"Brasil\",\"MC\":\"1006\",\"MN\":\"Hectares\",\"V\":\"338345\",\"D1C\":\"1\",\"D1N\":\"Brasil\",\"D2C\":\"109\",\"D2N\":\"Área plantada\",\"D3C\":\"202211\",\"D3N\":\"novembro 2022\",\"D4C\":\"48584\",\"D4N\":\"Safra 2021\",\"D5C\":\"39460\",\"D5N\":\"15 Fumo\"},{\"NC\":\"1\",\"NN\":\"Brasil\",\"MC\":\"1006\",\"MN\":\"Hectares\",\"V\":\"-\",\"D1C\":\"1\",\"D1N\":\"Brasil\",\"D2C\":\"109\",\"D2N\":\"Área plantada\",\"D3C\":\"202211\",\"D3N\":\"novembro 2022\",\"D4C\":\"48584\",\"D4N\":\"Safra 2021\",\"D5C\":\"39462\",\"D5N\":\"17 Juta\"},{\"NC\":\"1\",\"NN\":\"Brasil\",\"MC\":\"1006\",\"MN\":\"Hectares\",\"V\":\"596257\",\"D1C\":\"1\",\"D1N\":\"Brasil\",\"D2C\":\"109\",\"D2N\":\"Área plantada\",\"D3C\":\"202211\",\"D3N\":\"novembro 2022\",\"D4C\":\"48584\",\"D4N\":\"Safra 2021\",\"D5C\":\"39463\",\"D5N\":\"18 Laranja\"},{\"NC\":\"1\",\"NN\":\"Brasil\",\"MC\":\"1006\",\"MN\":\"Hectares\",\"V\":\"1280920\",\"D1C\":\"1\",\"D1N\":\"Brasil\",\"D2C\":\"109\",\"D2N\":\"Área plantada\",\"D3C\":\"202211\",\"D3N\":\"novembro 2022\",\"D4C\":\"48584\",\"D4N\":\"Safra 2021\",\"D5C\":\"39467\",\"D5N\":\"21 Mandioca\"},{\"NC\":\"1\",\"NN\":\"Brasil\",\"MC\":\"1006\",\"MN\":\"Hectares\",\"V\":\"54484\",\"D1C\":\"1\",\"D1N\":\"Brasil\",\"D2C\":\"109\",\"D2N\":\"Área plantada\",\"D3C\":\"202211\",\"D3N\":\"novembro 2022\",\"D4C\":\"48584\",\"D4N\":\"Safra 2021\",\"D5C\":\"39470\",\"D5N\":\"24 Tomate\"},{\"NC\":\"1\",\"NN\":\"Brasil\",\"MC\":\"1006\",\"MN\":\"Hectares\",\"V\":\"75086\",\"D1C\":\"1\",\"D1N\":\"Brasil\",\"D2C\":\"109\",\"D2N\":\"Área plantada\",\"D3C\":\"202211\",\"D3N\":\"novembro 2022\",\"D4C\":\"48584\",\"D4N\":\"Safra 2021\",\"D5C\":\"39471\",\"D5N\":\"25 Uva\"},{\"NC\":\"1\",\"NN\":\"Brasil\",\"MC\":\"1006\",\"MN\":\"Hectares\",\"V\":\"88387133\",\"D1C\":\"1\",\"D1N\":\"Brasil\",\"D2C\":\"109\",\"D2N\":\"Área plantada\",\"D3C\":\"202211\",\"D3N\":\"novembro 2022\",\"D4C\":\"50483\",\"D4N\":\"Safra 2022\",\"D5C\":\"0\",\"D5N\":\"Total\"},{\"NC\":\"1\",\"NN\":\"Brasil\",\"MC\":\"1006\",\"MN\":\"Hectares\",\"V\":\"73697872\",\"D1C\":\"1\",\"D1N\":\"Brasil\",\"D2C\":\"109\",\"D2N\":\"Área plantada\",\"D3C\":\"202211\",\"D3N\":\"novembro 2022\",\"D4C\":\"50483\",\"D4N\":\"Safra 2022\",\"D5C\":\"39428\",\"D5N\":\"1 Cereais, leguminosas e oleaginosas\"},{\"NC\":\"1\",\"NN\":\"Brasil\",\"MC\":\"1006\",\"MN\":\"Hectares\",\"V\":\"1622172\",\"D1C\":\"1\",\"D1N\":\"Brasil\",\"D2C\":\"109\",\"D2N\":\"Área plantada\",\"D3C\":\"202211\",\"D3N\":\"novembro 2022\",\"D4C\":\"50483\",\"D4N\":\"Safra 2022\",\"D5C\":\"39429\",\"D5N\":\"1.1 Algodão herbáceo\"},{\"NC\":\"1\",\"NN\":\"Brasil\",\"MC\":\"1006\",\"MN\":\"Hectares\",\"V\":\"211304\",\"D1C\":\"1\",\"D1N\":\"Brasil\",\"D2C\":\"109\",\"D2N\":\"Área plantada\",\"D3C\":\"202211\",\"D3N\":\"novembro 2022\",\"D4C\":\"50483\",\"D4N\":\"Safra 2022\",\"D5C\":\"39430\",\"D5N\":\"1.2 Amendoim (1ª Safra)\"},{\"NC\":\"1\",\"NN\":\"Brasil\",\"MC\":\"1006\",\"MN\":\"Hectares\",\"V\":\"7345\",\"D1C\":\"1\",\"D1N\":\"Brasil\",\"D2C\":\"109\",\"D2N\":\"Área plantada\",\"D3C\":\"202211\",\"D3N\":\"novembro 2022\",\"D4C\":\"50483\",\"D4N\":\"Safra 2022\",\"D5C\":\"39431\",\"D5N\":\"1.3 Amendoim (2ª Safra)\"},{\"NC\":\"1\",\"NN\":\"Brasil\",\"MC\":\"1006\",\"MN\":\"Hectares\",\"V\":\"1657464\",\"D1C\":\"1\",\"D1N\":\"Brasil\",\"D2C\":\"109\",\"D2N\":\"Área plantada\",\"D3C\":\"202211\",\"D3N\":\"novembro 2022\",\"D4C\":\"50483\",\"D4N\":\"Safra 2022\",\"D5C\":\"39432\",\"D5N\":\"1.4 Arroz\"},{\"NC\":\"1\",\"NN\":\"Brasil\",\"MC\":\"1006\",\"MN\":\"Hectares\",\"V\":\"506571\",\"D1C\":\"1\",\"D1N\":\"Brasil\",\"D2C\":\"109\",\"D2N\":\"Área plantada\",\"D3C\":\"202211\",\"D3N\":\"novembro 2022\",\"D4C\":\"50483\",\"D4N\":\"Safra 2022\",\"D5C\":\"39433\",\"D5N\":\"1.5 Aveia\"},{\"NC\":\"1\",\"NN\":\"Brasil\",\"MC\":\"1006\",\"MN\":\"Hectares\",\"V\":\"5249\",\"D1C\":\"1\",\"D1N\":\"Brasil\",\"D2C\":\"109\",\"D2N\":\"Área plantada\",\"D3C\":\"202211\",\"D3N\":\"novembro 2022\",\"D4C\":\"50483\",\"D4N\":\"Safra 2022\",\"D5C\":\"39434\",\"D5N\":\"1.6 Centeio\"},{\"NC\":\"1\",\"NN\":\"Brasil\",\"MC\":\"1006\",\"MN\":\"Hectares\",\"V\":\"130666\",\"D1C\":\"1\",\"D1N\":\"Brasil\",\"D2C\":\"109\",\"D2N\":\"Área plantada\",\"D3C\":\"202211\",\"D3N\":\"novembro 2022\",\"D4C\":\"50483\",\"D4N\":\"Safra 2022\",\"D5C\":\"39435\",\"D5N\":\"1.7 Cevada\"},{\"NC\":\"1\",\"NN\":\"Brasil\",\"MC\":\"1006\",\"MN\":\"Hectares\",\"V\":\"1459221\",\"D1C\":\"1\",\"D1N\":\"Brasil\",\"D2C\":\"109\",\"D2N\":\"Área plantada\",\"D3C\":\"202211\",\"D3N\":\"novembro 2022\",\"D4C\":\"50483\",\"D4N\":\"Safra 2022\",\"D5C\":\"39436\",\"D5N\":\"1.8 Feijão (1ª Safra)\"},{\"NC\":\"1\",\"NN\":\"Brasil\",\"MC\":\"1006\",\"MN\":\"Hectares\",\"V\":\"1128911\",\"D1C\":\"1\",\"D1N\":\"Brasil\",\"D2C\":\"109\",\"D2N\":\"Área plantada\",\"D3C\":\"202211\",\"D3N\":\"novembro 2022\",\"D4C\":\"50483\",\"D4N\":\"Safra 2022\",\"D5C\":\"39437\",\"D5N\":\"1.9 Feijão (2ª Safra)\"},{\"NC\":\"1\",\"NN\":\"Brasil\",\"MC\":\"1006\",\"MN\":\"Hectares\",\"V\":\"237395\",\"D1C\":\"1\",\"D1N\":\"Brasil\",\"D2C\":\"109\",\"D2N\":\"Área plantada\",\"D3C\":\"202211\",\"D3N\":\"novembro 2022\",\"D4C\":\"50483\",\"D4N\":\"Safra 2022\",\"D5C\":\"39438\",\"D5N\":\"1.10 Feijão (3ª Safra)\"},{\"NC\":\"1\",\"NN\":\"Brasil\",\"MC\":\"1006\",\"MN\":\"Hectares\",\"V\":\"36365\",\"D1C\":\"1\",\"D1N\":\"Brasil\",\"D2C\":\"109\",\"D2N\":\"Área plantada\",\"D3C\":\"202211\",\"D3N\":\"novembro 2022\",\"D4C\":\"50483\",\"D4N\":\"Safra 2022\",\"D5C\":\"39439\",\"D5N\":\"1.11 Girassol\"},{\"NC\":\"1\",\"NN\":\"Brasil\",\"MC\":\"1006\",\"MN\":\"Hectares\",\"V\":\"48442\",\"D1C\":\"1\",\"D1N\":\"Brasil\",\"D2C\":\"109\",\"D2N\":\"Área plantada\",\"D3C\":\"202211\",\"D3N\":\"novembro 2022\",\"D4C\":\"50483\",\"D4N\":\"Safra 2022\",\"D5C\":\"39440\",\"D5N\":\"1.12 Mamona\"},{\"NC\":\"1\",\"NN\":\"Brasil\",\"MC\":\"1006\",\"MN\":\"Hectares\",\"V\":\"5349883\",\"D1C\":\"1\",\"D1N\":\"Brasil\",\"D2C\":\"109\",\"D2N\":\"Área plantada\",\"D3C\":\"202211\",\"D3N\":\"novembro 2022\",\"D4C\":\"50483\",\"D4N\":\"Safra 2022\",\"D5C\":\"39441\",\"D5N\":\"1.13 Milho (1ª Safra)\"},{\"NC\":\"1\",\"NN\":\"Brasil\",\"MC\":\"1006\",\"MN\":\"Hectares\",\"V\":\"16052482\",\"D1C\":\"1\",\"D1N\":\"Brasil\",\"D2C\":\"109\",\"D2N\":\"Área plantada\",\"D3C\":\"202211\",\"D3N\":\"novembro 2022\",\"D4C\":\"50483\",\"D4N\":\"Safra 2022\",\"D5C\":\"39442\",\"D5N\":\"1.14 Milho (2ª Safra)\"},{\"NC\":\"1\",\"NN\":\"Brasil\",\"MC\":\"1006\",\"MN\":\"Hectares\",\"V\":\"41077058\",\"D1C\":\"1\",\"D1N\":\"Brasil\",\"D2C\":\"109\",\"D2N\":\"Área plantada\",\"D3C\":\"202211\",\"D3N\":\"novembro 2022\",\"D4C\":\"50483\",\"D4N\":\"Safra 2022\",\"D5C\":\"39443\",\"D5N\":\"1.15 Soja\"},{\"NC\":\"1\",\"NN\":\"Brasil\",\"MC\":\"1006\",\"MN\":\"Hectares\",\"V\":\"1037834\",\"D1C\":\"1\",\"D1N\":\"Brasil\",\"D2C\":\"109\",\"D2N\":\"Área plantada\",\"D3C\":\"202211\",\"D3N\":\"novembro 2022\",\"D4C\":\"50483\",\"D4N\":\"Safra 2022\",\"D5C\":\"39444\",\"D5N\":\"1.16 Sorgo\"},{\"NC\":\"1\",\"NN\":\"Brasil\",\"MC\":\"1006\",\"MN\":\"Hectares\",\"V\":\"3108430\",\"D1C\":\"1\",\"D1N\":\"Brasil\",\"D2C\":\"109\",\"D2N\":\"Área plantada\",\"D3C\":\"202211\",\"D3N\":\"novembro 2022\",\"D4C\":\"50483\",\"D4N\":\"Safra 2022\",\"D5C\":\"39445\",\"D5N\":\"1.17 Trigo\"},{\"NC\":\"1\",\"NN\":\"Brasil\",\"MC\":\"1006\",\"MN\":\"Hectares\",\"V\":\"21080\",\"D1C\":\"1\",\"D1N\":\"Brasil\",\"D2C\":\"109\",\"D2N\":\"Área plantada\",\"D3C\":\"202211\",\"D3N\":\"novembro 2022\",\"D4C\":\"50483\",\"D4N\":\"Safra 2022\",\"D5C\":\"39446\",\"D5N\":\"1.18 Triticale\"},{\"NC\":\"1\",\"NN\":\"Brasil\",\"MC\":\"1006\",\"MN\":\"Hectares\",\"V\":\"473200\",\"D1C\":\"1\",\"D1N\":\"Brasil\",\"D2C\":\"109\",\"D2N\":\"Área plantada\",\"D3C\":\"202211\",\"D3N\":\"novembro 2022\",\"D4C\":\"50483\",\"D4N\":\"Safra 2022\",\"D5C\":\"39449\",\"D5N\":\"4 Banana\"},{\"NC\":\"1\",\"NN\":\"Brasil\",\"MC\":\"1006\",\"MN\":\"Hectares\",\"V\":\"56985\",\"D1C\":\"1\",\"D1N\":\"Brasil\",\"D2C\":\"109\",\"D2N\":\"Área plantada\",\"D3C\":\"202211\",\"D3N\":\"novembro 2022\",\"D4C\":\"50483\",\"D4N\":\"Safra 2022\",\"D5C\":\"39450\",\"D5N\":\"5 Batata - inglesa (1ª Safra)\"},{\"NC\":\"1\",\"NN\":\"Brasil\",\"MC\":\"1006\",\"MN\":\"Hectares\",\"V\":\"39186\",\"D1C\":\"1\",\"D1N\":\"Brasil\",\"D2C\":\"109\",\"D2N\":\"Área plantada\",\"D3C\":\"202211\",\"D3N\":\"novembro 2022\",\"D4C\":\"50483\",\"D4N\":\"Safra 2022\",\"D5C\":\"39451\",\"D5N\":\"6 Batata - inglesa (2ª Safra)\"},{\"NC\":\"1\",\"NN\":\"Brasil\",\"MC\":\"1006\",\"MN\":\"Hectares\",\"V\":\"27433\",\"D1C\":\"1\",\"D1N\":\"Brasil\",\"D2C\":\"109\",\"D2N\":\"Área plantada\",\"D3C\":\"202211\",\"D3N\":\"novembro 2022\",\"D4C\":\"50483\",\"D4N\":\"Safra 2022\",\"D5C\":\"39452\",\"D5N\":\"7 Batata - inglesa (3ª Safra)\"},{\"NC\":\"1\",\"NN\":\"Brasil\",\"MC\":\"1006\",\"MN\":\"Hectares\",\"V\":\"620258\",\"D1C\":\"1\",\"D1N\":\"Brasil\",\"D2C\":\"109\",\"D2N\":\"Área plantada\",\"D3C\":\"202211\",\"D3N\":\"novembro 2022\",\"D4C\":\"50483\",\"D4N\":\"Safra 2022\",\"D5C\":\"39453\",\"D5N\":\"8 Cacau\"},{\"NC\":\"1\",\"NN\":\"Brasil\",\"MC\":\"1006\",\"MN\":\"Hectares\",\"V\":\"1472727\",\"D1C\":\"1\",\"D1N\":\"Brasil\",\"D2C\":\"109\",\"D2N\":\"Área plantada\",\"D3C\":\"202211\",\"D3N\":\"novembro 2022\",\"D4C\":\"50483\",\"D4N\":\"Safra 2022\",\"D5C\":\"39454\",\"D5N\":\"9 Café arábica\"},{\"NC\":\"1\",\"NN\":\"Brasil\",\"MC\":\"1006\",\"MN\":\"Hectares\",\"V\":\"403118\",\"D1C\":\"1\",\"D1N\":\"Brasil\",\"D2C\":\"109\",\"D2N\":\"Área plantada\",\"D3C\":\"202211\",\"D3N\":\"novembro 2022\",\"D4C\":\"50483\",\"D4N\":\"Safra 2022\",\"D5C\":\"39455\",\"D5N\":\"10 Café canephora\"},{\"NC\":\"1\",\"NN\":\"Brasil\",\"MC\":\"1006\",\"MN\":\"Hectares\",\"V\":\"8839104\",\"D1C\":\"1\",\"D1N\":\"Brasil\",\"D2C\":\"109\",\"D2N\":\"Área plantada\",\"D3C\":\"202211\",\"D3N\":\"novembro 2022\",\"D4C\":\"50483\",\"D4N\":\"Safra 2022\",\"D5C\":\"39456\",\"D5N\":\"11 Cana-de-açúcar\"},{\"NC\":\"1\",\"NN\":\"Brasil\",\"MC\":\"1006\",\"MN\":\"Hectares\",\"V\":\"425917\",\"D1C\":\"1\",\"D1N\":\"Brasil\",\"D2C\":\"109\",\"D2N\":\"Área plantada\",\"D3C\":\"202211\",\"D3N\":\"novembro 2022\",\"D4C\":\"50483\",\"D4N\":\"Safra 2022\",\"D5C\":\"39457\",\"D5N\":\"12 Castanha-de-caju\"},{\"NC\":\"1\",\"NN\":\"Brasil\",\"MC\":\"1006\",\"MN\":\"Hectares\",\"V\":\"328088\",\"D1C\":\"1\",\"D1N\":\"Brasil\",\"D2C\":\"109\",\"D2N\":\"Área plantada\",\"D3C\":\"202211\",\"D3N\":\"novembro 2022\",\"D4C\":\"50483\",\"D4N\":\"Safra 2022\",\"D5C\":\"39460\",\"D5N\":\"15 Fumo\"},{\"NC\":\"1\",\"NN\":\"Brasil\",\"MC\":\"1006\",\"MN\":\"Hectares\",\"V\":\"-\",\"D1C\":\"1\",\"D1N\":\"Brasil\",\"D2C\":\"109\",\"D2N\":\"Área plantada\",\"D3C\":\"202211\",\"D3N\":\"novembro 2022\",\"D4C\":\"50483\",\"D4N\":\"Safra 2022\",\"D5C\":\"39462\",\"D5N\":\"17 Juta\"},{\"NC\":\"1\",\"NN\":\"Brasil\",\"MC\":\"1006\",\"MN\":\"Hectares\",\"V\":\"596035\",\"D1C\":\"1\",\"D1N\":\"Brasil\",\"D2C\":\"109\",\"D2N\":\"Área plantada\",\"D3C\":\"202211\",\"D3N\":\"novembro 2022\",\"D4C\":\"50483\",\"D4N\":\"Safra 2022\",\"D5C\":\"39463\",\"D5N\":\"18 Laranja\"},{\"NC\":\"1\",\"NN\":\"Brasil\",\"MC\":\"1006\",\"MN\":\"Hectares\",\"V\":\"1277570\",\"D1C\":\"1\",\"D1N\":\"Brasil\",\"D2C\":\"109\",\"D2N\":\"Área plantada\",\"D3C\":\"202211\",\"D3N\":\"novembro 2022\",\"D4C\":\"50483\",\"D4N\":\"Safra 2022\",\"D5C\":\"39467\",\"D5N\":\"21 Mandioca\"},{\"NC\":\"1\",\"NN\":\"Brasil\",\"MC\":\"1006\",\"MN\":\"Hectares\",\"V\":\"54001\",\"D1C\":\"1\",\"D1N\":\"Brasil\",\"D2C\":\"109\",\"D2N\":\"Área plantada\",\"D3C\":\"202211\",\"D3N\":\"novembro 2022\",\"D4C\":\"50483\",\"D4N\":\"Safra 2022\",\"D5C\":\"39470\",\"D5N\":\"24 Tomate\"},{\"NC\":\"1\",\"NN\":\"Brasil\",\"MC\":\"1006\",\"MN\":\"Hectares\",\"V\":\"75639\",\"D1C\":\"1\",\"D1N\":\"Brasil\",\"D2C\":\"109\",\"D2N\":\"Área plantada\",\"D3C\":\"202211\",\"D3N\":\"novembro 2022\",\"D4C\":\"50483\",\"D4N\":\"Safra 2022\",\"D5C\":\"39471\",\"D5N\":\"25 Uva\"},{\"NC\":\"1\",\"NN\":\"Brasil\",\"MC\":\"1006\",\"MN\":\"Hectares\",\"V\":\"83149919\",\"D1C\":\"1\",\"D1N\":\"Brasil\",\"D2C\":\"216\",\"D2N\":\"Área colhida\",\"D3C\":\"202211\",\"D3N\":\"novembro 2022\",\"D4C\":\"48584\",\"D4N\":\"Safra 2021\",\"D5C\":\"0\",\"D5N\":\"Total\"},{\"NC\":\"1\",\"NN\":\"Brasil\",\"MC\":\"1006\",\"MN\":\"Hectares\",\"V\":\"68562508\",\"D1C\":\"1\",\"D1N\":\"Brasil\",\"D2C\":\"216\",\"D2N\":\"Área colhida\",\"D3C\":\"202211\",\"D3N\":\"novembro 2022\",\"D4C\":\"48584\",\"D4N\":\"Safra 2021\",\"D5C\":\"39428\",\"D5N\":\"1 Cereais, leguminosas e oleaginosas\"},{\"NC\":\"1\",\"NN\":\"Brasil\",\"MC\":\"1006\",\"MN\":\"Hectares\",\"V\":\"1375913\",\"D1C\":\"1\",\"D1N\":\"Brasil\",\"D2C\":\"216\",\"D2N\":\"Área colhida\",\"D3C\":\"202211\",\"D3N\":\"novembro 2022\",\"D4C\":\"48584\",\"D4N\":\"Safra 2021\",\"D5C\":\"39429\",\"D5N\":\"1.1 Algodão herbáceo\"},{\"NC\":\"1\",\"NN\":\"Brasil\",\"MC\":\"1006\",\"MN\":\"Hectares\",\"V\":\"174377\",\"D1C\":\"1\",\"D1N\":\"Brasil\",\"D2C\":\"216\",\"D2N\":\"Área colhida\",\"D3C\":\"202211\",\"D3N\":\"novembro 2022\",\"D4C\":\"48584\",\"D4N\":\"Safra 2021\",\"D5C\":\"39430\",\"D5N\":\"1.2 Amendoim (1ª Safra)\"},{\"NC\":\"1\",\"NN\":\"Brasil\",\"MC\":\"1006\",\"MN\":\"Hectares\",\"V\":\"6922\",\"D1C\":\"1\",\"D1N\":\"Brasil\",\"D2C\":\"216\",\"D2N\":\"Área colhida\",\"D3C\":\"202211\",\"D3N\":\"novembro 2022\",\"D4C\":\"48584\",\"D4N\":\"Safra 2021\",\"D5C\":\"39431\",\"D5N\":\"1.3 Amendoim (2ª Safra)\"},{\"NC\":\"1\",\"NN\":\"Brasil\",\"MC\":\"1006\",\"MN\":\"Hectares\",\"V\":\"1679497\",\"D1C\":\"1\",\"D1N\":\"Brasil\",\"D2C\":\"216\",\"D2N\":\"Área colhida\",\"D3C\":\"202211\",\"D3N\":\"novembro 2022\",\"D4C\":\"48584\",\"D4N\":\"Safra 2021\",\"D5C\":\"39432\",\"D5N\":\"1.4 Arroz\"},{\"NC\":\"1\",\"NN\":\"Brasil\",\"MC\":\"1006\",\"MN\":\"Hectares\",\"V\":\"475437\",\"D1C\":\"1\",\"D1N\":\"Brasil\",\"D2C\":\"216\",\"D2N\":\"Área colhida\",\"D3C\":\"202211\",\"D3N\":\"novembro 2022\",\"D4C\":\"48584\",\"D4N\":\"Safra 2021\",\"D5C\":\"39433\",\"D5N\":\"1.5 Aveia\"},{\"NC\":\"1\",\"NN\":\"Brasil\",\"MC\":\"1006\",\"MN\":\"Hectares\",\"V\":\"4758\",\"D1C\":\"1\",\"D1N\":\"Brasil\",\"D2C\":\"216\",\"D2N\":\"Área colhida\",\"D3C\":\"202211\",\"D3N\":\"novembro 2022\",\"D4C\":\"48584\",\"D4N\":\"Safra 2021\",\"D5C\":\"39434\",\"D5N\":\"1.6 Centeio\"},{\"NC\":\"1\",\"NN\":\"Brasil\",\"MC\":\"1006\",\"MN\":\"Hectares\",\"V\":\"115065\",\"D1C\":\"1\",\"D1N\":\"Brasil\",\"D2C\":\"216\",\"D2N\":\"Área colhida\",\"D3C\":\"202211\",\"D3N\":\"novembro 2022\",\"D4C\":\"48584\",\"D4N\":\"Safra 2021\",\"D5C\":\"39435\",\"D5N\":\"1.7 Cevada\"},{\"NC\":\"1\",\"NN\":\"Brasil\",\"MC\":\"1006\",\"MN\":\"Hectares\",\"V\":\"1435721\",\"D1C\":\"1\",\"D1N\":\"Brasil\",\"D2C\":\"216\",\"D2N\":\"Área colhida\",\"D3C\":\"202211\",\"D3N\":\"novembro 2022\",\"D4C\":\"48584\",\"D4N\":\"Safra 2021\",\"D5C\":\"39436\",\"D5N\":\"1.8 Feijão (1ª Safra)\"},{\"NC\":\"1\",\"NN\":\"Brasil\",\"MC\":\"1006\",\"MN\":\"Hectares\",\"V\":\"1067582\",\"D1C\":\"1\",\"D1N\":\"Brasil\",\"D2C\":\"216\",\"D2N\":\"Área colhida\",\"D3C\":\"202211\",\"D3N\":\"novembro 2022\",\"D4C\":\"48584\",\"D4N\":\"Safra 2021\",\"D5C\":\"39437\",\"D5N\":\"1.9 Feijão (2ª Safra)\"},{\"NC\":\"1\",\"NN\":\"Brasil\",\"MC\":\"1006\",\"MN\":\"Hectares\",\"V\":\"215721\",\"D1C\":\"1\",\"D1N\":\"Brasil\",\"D2C\":\"216\",\"D2N\":\"Área colhida\",\"D3C\":\"202211\",\"D3N\":\"novembro 2022\",\"D4C\":\"48584\",\"D4N\":\"Safra 2021\",\"D5C\":\"39438\",\"D5N\":\"1.10 Feijão (3ª Safra)\"},{\"NC\":\"1\",\"NN\":\"Brasil\",\"MC\":\"1006\",\"MN\":\"Hectares\",\"V\":\"42047\",\"D1C\":\"1\",\"D1N\":\"Brasil\",\"D2C\":\"216\",\"D2N\":\"Área colhida\",\"D3C\":\"202211\",\"D3N\":\"novembro 2022\",\"D4C\":\"48584\",\"D4N\":\"Safra 2021\",\"D5C\":\"39439\",\"D5N\":\"1.11 Girassol\"},{\"NC\":\"1\",\"NN\":\"Brasil\",\"MC\":\"1006\",\"MN\":\"Hectares\",\"V\":\"46934\",\"D1C\":\"1\",\"D1N\":\"Brasil\",\"D2C\":\"216\",\"D2N\":\"Área colhida\",\"D3C\":\"202211\",\"D3N\":\"novembro 2022\",\"D4C\":\"48584\",\"D4N\":\"Safra 2021\",\"D5C\":\"39440\",\"D5N\":\"1.12 Mamona\"},{\"NC\":\"1\",\"NN\":\"Brasil\",\"MC\":\"1006\",\"MN\":\"Hectares\",\"V\":\"4959670\",\"D1C\":\"1\",\"D1N\":\"Brasil\",\"D2C\":\"216\",\"D2N\":\"Área colhida\",\"D3C\":\"202211\",\"D3N\":\"novembro 2022\",\"D4C\":\"48584\",\"D4N\":\"Safra 2021\",\"D5C\":\"39441\",\"D5N\":\"1.13 Milho (1ª Safra)\"},{\"NC\":\"1\",\"NN\":\"Brasil\",\"MC\":\"1006\",\"MN\":\"Hectares\",\"V\":\"14334434\",\"D1C\":\"1\",\"D1N\":\"Brasil\",\"D2C\":\"216\",\"D2N\":\"Área colhida\",\"D3C\":\"202211\",\"D3N\":\"novembro 2022\",\"D4C\":\"48584\",\"D4N\":\"Safra 2021\",\"D5C\":\"39442\",\"D5N\":\"1.14 Milho (2ª Safra)\"},{\"NC\":\"1\",\"NN\":\"Brasil\",\"MC\":\"1006\",\"MN\":\"Hectares\",\"V\":\"38974763\",\"D1C\":\"1\",\"D1N\":\"Brasil\",\"D2C\":\"216\",\"D2N\":\"Área colhida\",\"D3C\":\"202211\",\"D3N\":\"novembro 2022\",\"D4C\":\"48584\",\"D4N\":\"Safra 2021\",\"D5C\":\"39443\",\"D5N\":\"1.15 Soja\"},{\"NC\":\"1\",\"NN\":\"Brasil\",\"MC\":\"1006\",\"MN\":\"Hectares\",\"V\":\"858499\",\"D1C\":\"1\",\"D1N\":\"Brasil\",\"D2C\":\"216\",\"D2N\":\"Área colhida\",\"D3C\":\"202211\",\"D3N\":\"novembro 2022\",\"D4C\":\"48584\",\"D4N\":\"Safra 2021\",\"D5C\":\"39444\",\"D5N\":\"1.16 Sorgo\"},{\"NC\":\"1\",\"NN\":\"Brasil\",\"MC\":\"1006\",\"MN\":\"Hectares\",\"V\":\"2779150\",\"D1C\":\"1\",\"D1N\":\"Brasil\",\"D2C\":\"216\",\"D2N\":\"Área colhida\",\"D3C\":\"202211\",\"D3N\":\"novembro 2022\",\"D4C\":\"48584\",\"D4N\":\"Safra 2021\",\"D5C\":\"39445\",\"D5N\":\"1.17 Trigo\"},{\"NC\":\"1\",\"NN\":\"Brasil\",\"MC\":\"1006\",\"MN\":\"Hectares\",\"V\":\"16018\",\"D1C\":\"1\",\"D1N\":\"Brasil\",\"D2C\":\"216\",\"D2N\":\"Área colhida\",\"D3C\":\"202211\",\"D3N\":\"novembro 2022\",\"D4C\":\"48584\",\"D4N\":\"Safra 2021\",\"D5C\":\"39446\",\"D5N\":\"1.18 Triticale\"},{\"NC\":\"1\",\"NN\":\"Brasil\",\"MC\":\"1006\",\"MN\":\"Hectares\",\"V\":\"465502\",\"D1C\":\"1\",\"D1N\":\"Brasil\",\"D2C\":\"216\",\"D2N\":\"Área colhida\",\"D3C\":\"202211\",\"D3N\":\"novembro 2022\",\"D4C\":\"48584\",\"D4N\":\"Safra 2021\",\"D5C\":\"39449\",\"D5N\":\"4 Banana\"},{\"NC\":\"1\",\"NN\":\"Brasil\",\"MC\":\"1006\",\"MN\":\"Hectares\",\"V\":\"59330\",\"D1C\":\"1\",\"D1N\":\"Brasil\",\"D2C\":\"216\",\"D2N\":\"Área colhida\",\"D3C\":\"202211\",\"D3N\":\"novembro 2022\",\"D4C\":\"48584\",\"D4N\":\"Safra 2021\",\"D5C\":\"39450\",\"D5N\":\"5 Batata - inglesa (1ª Safra)\"},{\"NC\":\"1\",\"NN\":\"Brasil\",\"MC\":\"1006\",\"MN\":\"Hectares\",\"V\":\"39337\",\"D1C\":\"1\",\"D1N\":\"Brasil\",\"D2C\":\"216\",\"D2N\":\"Área colhida\",\"D3C\":\"202211\",\"D3N\":\"novembro 2022\",\"D4C\":\"48584\",\"D4N\":\"Safra 2021\",\"D5C\":\"39451\",\"D5N\":\"6 Batata - inglesa (2ª Safra)\"},{\"NC\":\"1\",\"NN\":\"Brasil\",\"MC\":\"1006\",\"MN\":\"Hectares\",\"V\":\"27019\",\"D1C\":\"1\",\"D1N\":\"Brasil\",\"D2C\":\"216\",\"D2N\":\"Área colhida\",\"D3C\":\"202211\",\"D3N\":\"novembro 2022\",\"D4C\":\"48584\",\"D4N\":\"Safra 2021\",\"D5C\":\"39452\",\"D5N\":\"7 Batata - inglesa (3ª Safra)\"},{\"NC\":\"1\",\"NN\":\"Brasil\",\"MC\":\"1006\",\"MN\":\"Hectares\",\"V\":\"597228\",\"D1C\":\"1\",\"D1N\":\"Brasil\",\"D2C\":\"216\",\"D2N\":\"Área colhida\",\"D3C\":\"202211\",\"D3N\":\"novembro 2022\",\"D4C\":\"48584\",\"D4N\":\"Safra 2021\",\"D5C\":\"39453\",\"D5N\":\"8 Cacau\"},{\"NC\":\"1\",\"NN\":\"Brasil\",\"MC\":\"1006\",\"MN\":\"Hectares\",\"V\":\"1433881\",\"D1C\":\"1\",\"D1N\":\"Brasil\",\"D2C\":\"216\",\"D2N\":\"Área colhida\",\"D3C\":\"202211\",\"D3N\":\"novembro 2022\",\"D4C\":\"48584\",\"D4N\":\"Safra 2021\",\"D5C\":\"39454\",\"D5N\":\"9 Café arábica\"},{\"NC\":\"1\",\"NN\":\"Brasil\",\"MC\":\"1006\",\"MN\":\"Hectares\",\"V\":\"395392\",\"D1C\":\"1\",\"D1N\":\"Brasil\",\"D2C\":\"216\",\"D2N\":\"Área colhida\",\"D3C\":\"202211\",\"D3N\":\"novembro 2022\",\"D4C\":\"48584\",\"D4N\":\"Safra 2021\",\"D5C\":\"39455\",\"D5N\":\"10 Café canephora\"},{\"NC\":\"1\",\"NN\":\"Brasil\",\"MC\":\"1006\",\"MN\":\"Hectares\",\"V\":\"8858657\",\"D1C\":\"1\",\"D1N\":\"Brasil\",\"D2C\":\"216\",\"D2N\":\"Área colhida\",\"D3C\":\"202211\",\"D3N\":\"novembro 2022\",\"D4C\":\"48584\",\"D4N\":\"Safra 2021\",\"D5C\":\"39456\",\"D5N\":\"11 Cana-de-açúcar\"},{\"NC\":\"1\",\"NN\":\"Brasil\",\"MC\":\"1006\",\"MN\":\"Hectares\",\"V\":\"426813\",\"D1C\":\"1\",\"D1N\":\"Brasil\",\"D2C\":\"216\",\"D2N\":\"Área colhida\",\"D3C\":\"202211\",\"D3N\":\"novembro 2022\",\"D4C\":\"48584\",\"D4N\":\"Safra 2021\",\"D5C\":\"39457\",\"D5N\":\"12 Castanha-de-caju\"},{\"NC\":\"1\",\"NN\":\"Brasil\",\"MC\":\"1006\",\"MN\":\"Hectares\",\"V\":\"337721\",\"D1C\":\"1\",\"D1N\":\"Brasil\",\"D2C\":\"216\",\"D2N\":\"Área colhida\",\"D3C\":\"202211\",\"D3N\":\"novembro 2022\",\"D4C\":\"48584\",\"D4N\":\"Safra 2021\",\"D5C\":\"39460\",\"D5N\":\"15 Fumo\"},{\"NC\":\"1\",\"NN\":\"Brasil\",\"MC\":\"1006\",\"MN\":\"Hectares\",\"V\":\"-\",\"D1C\":\"1\",\"D1N\":\"Brasil\",\"D2C\":\"216\",\"D2N\":\"Área colhida\",\"D3C\":\"202211\",\"D3N\":\"novembro 2022\",\"D4C\":\"48584\",\"D4N\":\"Safra 2021\",\"D5C\":\"39462\",\"D5N\":\"17 Juta\"},{\"NC\":\"1\",\"NN\":\"Brasil\",\"MC\":\"1006\",\"MN\":\"Hectares\",\"V\":\"585115\",\"D1C\":\"1\",\"D1N\":\"Brasil\",\"D2C\":\"216\",\"D2N\":\"Área colhida\",\"D3C\":\"202211\",\"D3N\":\"novembro 2022\",\"D4C\":\"48584\",\"D4N\":\"Safra 2021\",\"D5C\":\"39463\",\"D5N\":\"18 Laranja\"},{\"NC\":\"1\",\"NN\":\"Brasil\",\"MC\":\"1006\",\"MN\":\"Hectares\",\"V\":\"1232818\",\"D1C\":\"1\",\"D1N\":\"Brasil\",\"D2C\":\"216\",\"D2N\":\"Área colhida\",\"D3C\":\"202211\",\"D3N\":\"novembro 2022\",\"D4C\":\"48584\",\"D4N\":\"Safra 2021\",\"D5C\":\"39467\",\"D5N\":\"21 Mandioca\"},{\"NC\":\"1\",\"NN\":\"Brasil\",\"MC\":\"1006\",\"MN\":\"Hectares\",\"V\":\"54267\",\"D1C\":\"1\",\"D1N\":\"Brasil\",\"D2C\":\"216\",\"D2N\":\"Área colhida\",\"D3C\":\"202211\",\"D3N\":\"novembro 2022\",\"D4C\":\"48584\",\"D4N\":\"Safra 2021\",\"D5C\":\"39470\",\"D5N\":\"24 Tomate\"},{\"NC\":\"1\",\"NN\":\"Brasil\",\"MC\":\"1006\",\"MN\":\"Hectares\",\"V\":\"74331\",\"D1C\":\"1\",\"D1N\":\"Brasil\",\"D2C\":\"216\",\"D2N\":\"Área colhida\",\"D3C\":\"202211\",\"D3N\":\"novembro 2022\",\"D4C\":\"48584\",\"D4N\":\"Safra 2021\",\"D5C\":\"39471\",\"D5N\":\"25 Uva\"},{\"NC\":\"1\",\"NN\":\"Brasil\",\"MC\":\"1006\",\"MN\":\"Hectares\",\"V\":\"87776552\",\"D1C\":\"1\",\"D1N\":\"Brasil\",\"D2C\":\"216\",\"D2N\":\"Área colhida\",\"D3C\":\"202211\",\"D3N\":\"novembro 2022\",\"D4C\":\"50483\",\"D4N\":\"Safra 2022\",\"D5C\":\"0\",\"D5N\":\"Total\"},{\"NC\":\"1\",\"NN\":\"Brasil\",\"MC\":\"1006\",\"MN\":\"Hectares\",\"V\":\"73220664\",\"D1C\":\"1\",\"D1N\":\"Brasil\",\"D2C\":\"216\",\"D2N\":\"Área colhida\",\"D3C\":\"202211\",\"D3N\":\"novembro 2022\",\"D4C\":\"50483\",\"D4N\":\"Safra 2022\",\"D5C\":\"39428\",\"D5N\":\"1 Cereais, leguminosas e oleaginosas\"},{\"NC\":\"1\",\"NN\":\"Brasil\",\"MC\":\"1006\",\"MN\":\"Hectares\",\"V\":\"1622098\",\"D1C\":\"1\",\"D1N\":\"Brasil\",\"D2C\":\"216\",\"D2N\":\"Área colhida\",\"D3C\":\"202211\",\"D3N\":\"novembro 2022\",\"D4C\":\"50483\",\"D4N\":\"Safra 2022\",\"D5C\":\"39429\",\"D5N\":\"1.1 Algodão herbáceo\"},{\"NC\":\"1\",\"NN\":\"Brasil\",\"MC\":\"1006\",\"MN\":\"Hectares\",\"V\":\"210841\",\"D1C\":\"1\",\"D1N\":\"Brasil\",\"D2C\":\"216\",\"D2N\":\"Área colhida\",\"D3C\":\"202211\",\"D3N\":\"novembro 2022\",\"D4C\":\"50483\",\"D4N\":\"Safra 2022\",\"D5C\":\"39430\",\"D5N\":\"1.2 Amendoim (1ª Safra)\"},{\"NC\":\"1\",\"NN\":\"Brasil\",\"MC\":\"1006\",\"MN\":\"Hectares\",\"V\":\"7304\",\"D1C\":\"1\",\"D1N\":\"Brasil\",\"D2C\":\"216\",\"D2N\":\"Área colhida\",\"D3C\":\"202211\",\"D3N\":\"novembro 2022\",\"D4C\":\"50483\",\"D4N\":\"Safra 2022\",\"D5C\":\"39431\",\"D5N\":\"1.3 Amendoim (2ª Safra)\"},{\"NC\":\"1\",\"NN\":\"Brasil\",\"MC\":\"1006\",\"MN\":\"Hectares\",\"V\":\"1626175\",\"D1C\":\"1\",\"D1N\":\"Brasil\",\"D2C\":\"216\",\"D2N\":\"Área colhida\",\"D3C\":\"202211\",\"D3N\":\"novembro 2022\",\"D4C\":\"50483\",\"D4N\":\"Safra 2022\",\"D5C\":\"39432\",\"D5N\":\"1.4 Arroz\"},{\"NC\":\"1\",\"NN\":\"Brasil\",\"MC\":\"1006\",\"MN\":\"Hectares\",\"V\":\"506071\",\"D1C\":\"1\",\"D1N\":\"Brasil\",\"D2C\":\"216\",\"D2N\":\"Área colhida\",\"D3C\":\"202211\",\"D3N\":\"novembro 2022\",\"D4C\":\"50483\",\"D4N\":\"Safra 2022\",\"D5C\":\"39433\",\"D5N\":\"1.5 Aveia\"},{\"NC\":\"1\",\"NN\":\"Brasil\",\"MC\":\"1006\",\"MN\":\"Hectares\",\"V\":\"5249\",\"D1C\":\"1\",\"D1N\":\"Brasil\",\"D2C\":\"216\",\"D2N\":\"Área colhida\",\"D3C\":\"202211\",\"D3N\":\"novembro 2022\",\"D4C\":\"50483\",\"D4N\":\"Safra 2022\",\"D5C\":\"39434\",\"D5N\":\"1.6 Centeio\"},{\"NC\":\"1\",\"NN\":\"Brasil\",\"MC\":\"1006\",\"MN\":\"Hectares\",\"V\":\"130486\",\"D1C\":\"1\",\"D1N\":\"Brasil\",\"D2C\":\"216\",\"D2N\":\"Área colhida\",\"D3C\":\"202211\",\"D3N\":\"novembro 2022\",\"D4C\":\"50483\",\"D4N\":\"Safra 2022\",\"D5C\":\"39435\",\"D5N\":\"1.7 Cevada\"},{\"NC\":\"1\",\"NN\":\"Brasil\",\"MC\":\"1006\",\"MN\":\"Hectares\",\"V\":\"1425528\",\"D1C\":\"1\",\"D1N\":\"Brasil\",\"D2C\":\"216\",\"D2N\":\"Área colhida\",\"D3C\":\"202211\",\"D3N\":\"novembro 2022\",\"D4C\":\"50483\",\"D4N\":\"Safra 2022\",\"D5C\":\"39436\",\"D5N\":\"1.8 Feijão (1ª Safra)\"},{\"NC\":\"1\",\"NN\":\"Brasil\",\"MC\":\"1006\",\"MN\":\"Hectares\",\"V\":\"1097411\",\"D1C\":\"1\",\"D1N\":\"Brasil\",\"D2C\":\"216\",\"D2N\":\"Área colhida\",\"D3C\":\"202211\",\"D3N\":\"novembro 2022\",\"D4C\":\"50483\",\"D4N\":\"Safra 2022\",\"D5C\":\"39437\",\"D5N\":\"1.9 Feijão (2ª Safra)\"},{\"NC\":\"1\",\"NN\":\"Brasil\",\"MC\":\"1006\",\"MN\":\"Hectares\",\"V\":\"237050\",\"D1C\":\"1\",\"D1N\":\"Brasil\",\"D2C\":\"216\",\"D2N\":\"Área colhida\",\"D3C\":\"202211\",\"D3N\":\"novembro 2022\",\"D4C\":\"50483\",\"D4N\":\"Safra 2022\",\"D5C\":\"39438\",\"D5N\":\"1.10 Feijão (3ª Safra)\"},{\"NC\":\"1\",\"NN\":\"Brasil\",\"MC\":\"1006\",\"MN\":\"Hectares\",\"V\":\"36175\",\"D1C\":\"1\",\"D1N\":\"Brasil\",\"D2C\":\"216\",\"D2N\":\"Área colhida\",\"D3C\":\"202211\",\"D3N\":\"novembro 2022\",\"D4C\":\"50483\",\"D4N\":\"Safra 2022\",\"D5C\":\"39439\",\"D5N\":\"1.11 Girassol\"},{\"NC\":\"1\",\"NN\":\"Brasil\",\"MC\":\"1006\",\"MN\":\"Hectares\",\"V\":\"48442\",\"D1C\":\"1\",\"D1N\":\"Brasil\",\"D2C\":\"216\",\"D2N\":\"Área colhida\",\"D3C\":\"202211\",\"D3N\":\"novembro 2022\",\"D4C\":\"50483\",\"D4N\":\"Safra 2022\",\"D5C\":\"39440\",\"D5N\":\"1.12 Mamona\"},{\"NC\":\"1\",\"NN\":\"Brasil\",\"MC\":\"1006\",\"MN\":\"Hectares\",\"V\":\"5288017\",\"D1C\":\"1\",\"D1N\":\"Brasil\",\"D2C\":\"216\",\"D2N\":\"Área colhida\",\"D3C\":\"202211\",\"D3N\":\"novembro 2022\",\"D4C\":\"50483\",\"D4N\":\"Safra 2022\",\"D5C\":\"39441\",\"D5N\":\"1.13 Milho (1ª Safra)\"},{\"NC\":\"1\",\"NN\":\"Brasil\",\"MC\":\"1006\",\"MN\":\"Hectares\",\"V\":\"15965848\",\"D1C\":\"1\",\"D1N\":\"Brasil\",\"D2C\":\"216\",\"D2N\":\"Área colhida\",\"D3C\":\"202211\",\"D3N\":\"novembro 2022\",\"D4C\":\"50483\",\"D4N\":\"Safra 2022\",\"D5C\":\"39442\",\"D5N\":\"1.14 Milho (2ª Safra)\"},{\"NC\":\"1\",\"NN\":\"Brasil\",\"MC\":\"1006\",\"MN\":\"Hectares\",\"V\":\"40853893\",\"D1C\":\"1\",\"D1N\":\"Brasil\",\"D2C\":\"216\",\"D2N\":\"Área colhida\",\"D3C\":\"202211\",\"D3N\":\"novembro 2022\",\"D4C\":\"50483\",\"D4N\":\"Safra 2022\",\"D5C\":\"39443\",\"D5N\":\"1.15 Soja\"},{\"NC\":\"1\",\"NN\":\"Brasil\",\"MC\":\"1006\",\"MN\":\"Hectares\",\"V\":\"1031866\",\"D1C\":\"1\",\"D1N\":\"Brasil\",\"D2C\":\"216\",\"D2N\":\"Área colhida\",\"D3C\":\"202211\",\"D3N\":\"novembro 2022\",\"D4C\":\"50483\",\"D4N\":\"Safra 2022\",\"D5C\":\"39444\",\"D5N\":\"1.16 Sorgo\"},{\"NC\":\"1\",\"NN\":\"Brasil\",\"MC\":\"1006\",\"MN\":\"Hectares\",\"V\":\"3107130\",\"D1C\":\"1\",\"D1N\":\"Brasil\",\"D2C\":\"216\",\"D2N\":\"Área colhida\",\"D3C\":\"202211\",\"D3N\":\"novembro 2022\",\"D4C\":\"50483\",\"D4N\":\"Safra 2022\",\"D5C\":\"39445\",\"D5N\":\"1.17 Trigo\"},{\"NC\":\"1\",\"NN\":\"Brasil\",\"MC\":\"1006\",\"MN\":\"Hectares\",\"V\":\"21080\",\"D1C\":\"1\",\"D1N\":\"Brasil\",\"D2C\":\"216\",\"D2N\":\"Área colhida\",\"D3C\":\"202211\",\"D3N\":\"novembro 2022\",\"D4C\":\"50483\",\"D4N\":\"Safra 2022\",\"D5C\":\"39446\",\"D5N\":\"1.18 Triticale\"},{\"NC\":\"1\",\"NN\":\"Brasil\",\"MC\":\"1006\",\"MN\":\"Hectares\",\"V\":\"463842\",\"D1C\":\"1\",\"D1N\":\"Brasil\",\"D2C\":\"216\",\"D2N\":\"Área colhida\",\"D3C\":\"202211\",\"D3N\":\"novembro 2022\",\"D4C\":\"50483\",\"D4N\":\"Safra 2022\",\"D5C\":\"39449\",\"D5N\":\"4 Banana\"},{\"NC\":\"1\",\"NN\":\"Brasil\",\"MC\":\"1006\",\"MN\":\"Hectares\",\"V\":\"56945\",\"D1C\":\"1\",\"D1N\":\"Brasil\",\"D2C\":\"216\",\"D2N\":\"Área colhida\",\"D3C\":\"202211\",\"D3N\":\"novembro 2022\",\"D4C\":\"50483\",\"D4N\":\"Safra 2022\",\"D5C\":\"39450\",\"D5N\":\"5 Batata - inglesa (1ª Safra)\"},{\"NC\":\"1\",\"NN\":\"Brasil\",\"MC\":\"1006\",\"MN\":\"Hectares\",\"V\":\"39186\",\"D1C\":\"1\",\"D1N\":\"Brasil\",\"D2C\":\"216\",\"D2N\":\"Área colhida\",\"D3C\":\"202211\",\"D3N\":\"novembro 2022\",\"D4C\":\"50483\",\"D4N\":\"Safra 2022\",\"D5C\":\"39451\",\"D5N\":\"6 Batata - inglesa (2ª Safra)\"},{\"NC\":\"1\",\"NN\":\"Brasil\",\"MC\":\"1006\",\"MN\":\"Hectares\",\"V\":\"27433\",\"D1C\":\"1\",\"D1N\":\"Brasil\",\"D2C\":\"216\",\"D2N\":\"Área colhida\",\"D3C\":\"202211\",\"D3N\":\"novembro 2022\",\"D4C\":\"50483\",\"D4N\":\"Safra 2022\",\"D5C\":\"39452\",\"D5N\":\"7 Batata - inglesa (3ª Safra)\"},{\"NC\":\"1\",\"NN\":\"Brasil\",\"MC\":\"1006\",\"MN\":\"Hectares\",\"V\":\"599961\",\"D1C\":\"1\",\"D1N\":\"Brasil\",\"D2C\":\"216\",\"D2N\":\"Área colhida\",\"D3C\":\"202211\",\"D3N\":\"novembro 2022\",\"D4C\":\"50483\",\"D4N\":\"Safra 2022\",\"D5C\":\"39453\",\"D5N\":\"8 Cacau\"},{\"NC\":\"1\",\"NN\":\"Brasil\",\"MC\":\"1006\",\"MN\":\"Hectares\",\"V\":\"1458953\",\"D1C\":\"1\",\"D1N\":\"Brasil\",\"D2C\":\"216\",\"D2N\":\"Área colhida\",\"D3C\":\"202211\",\"D3N\":\"novembro 2022\",\"D4C\":\"50483\",\"D4N\":\"Safra 2022\",\"D5C\":\"39454\",\"D5N\":\"9 Café arábica\"},{\"NC\":\"1\",\"NN\":\"Brasil\",\"MC\":\"1006\",\"MN\":\"Hectares\",\"V\":\"397547\",\"D1C\":\"1\",\"D1N\":\"Brasil\",\"D2C\":\"216\",\"D2N\":\"Área colhida\",\"D3C\":\"202211\",\"D3N\":\"novembro 2022\",\"D4C\":\"50483\",\"D4N\":\"Safra 2022\",\"D5C\":\"39455\",\"D5N\":\"10 Café canephora\"},{\"NC\":\"1\",\"NN\":\"Brasil\",\"MC\":\"1006\",\"MN\":\"Hectares\",\"V\":\"8825288\",\"D1C\":\"1\",\"D1N\":\"Brasil\",\"D2C\":\"216\",\"D2N\":\"Área colhida\",\"D3C\":\"202211\",\"D3N\":\"novembro 2022\",\"D4C\":\"50483\",\"D4N\":\"Safra 2022\",\"D5C\":\"39456\",\"D5N\":\"11 Cana-de-açúcar\"},{\"NC\":\"1\",\"NN\":\"Brasil\",\"MC\":\"1006\",\"MN\":\"Hectares\",\"V\":\"424875\",\"D1C\":\"1\",\"D1N\":\"Brasil\",\"D2C\":\"216\",\"D2N\":\"Área colhida\",\"D3C\":\"202211\",\"D3N\":\"novembro 2022\",\"D4C\":\"50483\",\"D4N\":\"Safra 2022\",\"D5C\":\"39457\",\"D5N\":\"12 Castanha-de-caju\"},{\"NC\":\"1\",\"NN\":\"Brasil\",\"MC\":\"1006\",\"MN\":\"Hectares\",\"V\":\"324031\",\"D1C\":\"1\",\"D1N\":\"Brasil\",\"D2C\":\"216\",\"D2N\":\"Área colhida\",\"D3C\":\"202211\",\"D3N\":\"novembro 2022\",\"D4C\":\"50483\",\"D4N\":\"Safra 2022\",\"D5C\":\"39460\",\"D5N\":\"15 Fumo\"},{\"NC\":\"1\",\"NN\":\"Brasil\",\"MC\":\"1006\",\"MN\":\"Hectares\",\"V\":\"-\",\"D1C\":\"1\",\"D1N\":\"Brasil\",\"D2C\":\"216\",\"D2N\":\"Área colhida\",\"D3C\":\"202211\",\"D3N\":\"novembro 2022\",\"D4C\":\"50483\",\"D4N\":\"Safra 2022\",\"D5C\":\"39462\",\"D5N\":\"17 Juta\"},{\"NC\":\"1\",\"NN\":\"Brasil\",\"MC\":\"1006\",\"MN\":\"Hectares\",\"V\":\"583032\",\"D1C\":\"1\",\"D1N\":\"Brasil\",\"D2C\":\"216\",\"D2N\":\"Área colhida\",\"D3C\":\"202211\",\"D3N\":\"novembro 2022\",\"D4C\":\"50483\",\"D4N\":\"Safra 2022\",\"D5C\":\"39463\",\"D5N\":\"18 Laranja\"},{\"NC\":\"1\",\"NN\":\"Brasil\",\"MC\":\"1006\",\"MN\":\"Hectares\",\"V\":\"1226015\",\"D1C\":\"1\",\"D1N\":\"Brasil\",\"D2C\":\"216\",\"D2N\":\"Área colhida\",\"D3C\":\"202211\",\"D3N\":\"novembro 2022\",\"D4C\":\"50483\",\"D4N\":\"Safra 2022\",\"D5C\":\"39467\",\"D5N\":\"21 Mandioca\"},{\"NC\":\"1\",\"NN\":\"Brasil\",\"MC\":\"1006\",\"MN\":\"Hectares\",\"V\":\"53872\",\"D1C\":\"1\",\"D1N\":\"Brasil\",\"D2C\":\"216\",\"D2N\":\"Área colhida\",\"D3C\":\"202211\",\"D3N\":\"novembro 2022\",\"D4C\":\"50483\",\"D4N\":\"Safra 2022\",\"D5C\":\"39470\",\"D5N\":\"24 Tomate\"},{\"NC\":\"1\",\"NN\":\"Brasil\",\"MC\":\"1006\",\"MN\":\"Hectares\",\"V\":\"74908\",\"D1C\":\"1\",\"D1N\":\"Brasil\",\"D2C\":\"216\",\"D2N\":\"Área colhida\",\"D3C\":\"202211\",\"D3N\":\"novembro 2022\",\"D4C\":\"50483\",\"D4N\":\"Safra 2022\",\"D5C\":\"39471\",\"D5N\":\"25 Uva\"},{\"NC\":\"1\",\"NN\":\"Brasil\",\"MC\":\"\",\"MN\":\"\",\"V\":\"..\",\"D1C\":\"1\",\"D1N\":\"Brasil\",\"D2C\":\"35\",\"D2N\":\"Produção\",\"D3C\":\"202211\",\"D3N\":\"novembro 2022\",\"D4C\":\"48584\",\"D4N\":\"Safra 2021\",\"D5C\":\"0\",\"D5N\":\"Total\"},{\"NC\":\"1\",\"NN\":\"Brasil\",\"MC\":\"1017\",\"MN\":\"Toneladas\",\"V\":\"253205838\",\"D1C\":\"1\",\"D1N\":\"Brasil\",\"D2C\":\"35\",\"D2N\":\"Produção\",\"D3C\":\"202211\",\"D3N\":\"novembro 2022\",\"D4C\":\"48584\",\"D4N\":\"Safra 2021\",\"D5C\":\"39428\",\"D5N\":\"1 Cereais, leguminosas e oleaginosas\"},{\"NC\":\"1\",\"NN\":\"Brasil\",\"MC\":\"1017\",\"MN\":\"Toneladas\",\"V\":\"5849412\",\"D1C\":\"1\",\"D1N\":\"Brasil\",\"D2C\":\"35\",\"D2N\":\"Produção\",\"D3C\":\"202211\",\"D3N\":\"novembro 2022\",\"D4C\":\"48584\",\"D4N\":\"Safra 2021\",\"D5C\":\"39429\",\"D5N\":\"1.1 Algodão herbáceo\"},{\"NC\":\"1\",\"NN\":\"Brasil\",\"MC\":\"1017\",\"MN\":\"Toneladas\",\"V\":\"640045\",\"D1C\":\"1\",\"D1N\":\"Brasil\",\"D2C\":\"35\",\"D2N\":\"Produção\",\"D3C\":\"202211\",\"D3N\":\"novembro 2022\",\"D4C\":\"48584\",\"D4N\":\"Safra 2021\",\"D5C\":\"39430\",\"D5N\":\"1.2 Amendoim (1ª Safra)\"},{\"NC\":\"1\",\"NN\":\"Brasil\",\"MC\":\"1017\",\"MN\":\"Toneladas\",\"V\":\"10713\",\"D1C\":\"1\",\"D1N\":\"Brasil\",\"D2C\":\"35\",\"D2N\":\"Produção\",\"D3C\":\"202211\",\"D3N\":\"novembro 2022\",\"D4C\":\"48584\",\"D4N\":\"Safra 2021\",\"D5C\":\"39431\",\"D5N\":\"1.3 Amendoim (2ª Safra)\"},{\"NC\":\"1\",\"NN\":\"Brasil\",\"MC\":\"1017\",\"MN\":\"Toneladas\",\"V\":\"11620292\",\"D1C\":\"1\",\"D1N\":\"Brasil\",\"D2C\":\"35\",\"D2N\":\"Produção\",\"D3C\":\"202211\",\"D3N\":\"novembro 2022\",\"D4C\":\"48584\",\"D4N\":\"Safra 2021\",\"D5C\":\"39432\",\"D5N\":\"1.4 Arroz\"},{\"NC\":\"1\",\"NN\":\"Brasil\",\"MC\":\"1017\",\"MN\":\"Toneladas\",\"V\":\"1056316\",\"D1C\":\"1\",\"D1N\":\"Brasil\",\"D2C\":\"35\",\"D2N\":\"Produção\",\"D3C\":\"202211\",\"D3N\":\"novembro 2022\",\"D4C\":\"48584\",\"D4N\":\"Safra 2021\",\"D5C\":\"39433\",\"D5N\":\"1.5 Aveia\"},{\"NC\":\"1\",\"NN\":\"Brasil\",\"MC\":\"1017\",\"MN\":\"Toneladas\",\"V\":\"8937\",\"D1C\":\"1\",\"D1N\":\"Brasil\",\"D2C\":\"35\",\"D2N\":\"Produção\",\"D3C\":\"202211\",\"D3N\":\"novembro 2022\",\"D4C\":\"48584\",\"D4N\":\"Safra 2021\",\"D5C\":\"39434\",\"D5N\":\"1.6 Centeio\"},{\"NC\":\"1\",\"NN\":\"Brasil\",\"MC\":\"1017\",\"MN\":\"Toneladas\",\"V\":\"436789\",\"D1C\":\"1\",\"D1N\":\"Brasil\",\"D2C\":\"35\",\"D2N\":\"Produção\",\"D3C\":\"202211\",\"D3N\":\"novembro 2022\",\"D4C\":\"48584\",\"D4N\":\"Safra 2021\",\"D5C\":\"39435\",\"D5N\":\"1.7 Cevada\"},{\"NC\":\"1\",\"NN\":\"Brasil\",\"MC\":\"1017\",\"MN\":\"Toneladas\",\"V\":\"1156566\",\"D1C\":\"1\",\"D1N\":\"Brasil\",\"D2C\":\"35\",\"D2N\":\"Produção\",\"D3C\":\"202211\",\"D3N\":\"novembro 2022\",\"D4C\":\"48584\",\"D4N\":\"Safra 2021\",\"D5C\":\"39436\",\"D5N\":\"1.8 Feijão (1ª Safra)\"},{\"NC\":\"1\",\"NN\":\"Brasil\",\"MC\":\"1017\",\"MN\":\"Toneladas\",\"V\":\"1023013\",\"D1C\":\"1\",\"D1N\":\"Brasil\",\"D2C\":\"35\",\"D2N\":\"Produção\",\"D3C\":\"202211\",\"D3N\":\"novembro 2022\",\"D4C\":\"48584\",\"D4N\":\"Safra 2021\",\"D5C\":\"39437\",\"D5N\":\"1.9 Feijão (2ª Safra)\"},{\"NC\":\"1\",\"NN\":\"Brasil\",\"MC\":\"1017\",\"MN\":\"Toneladas\",\"V\":\"596794\",\"D1C\":\"1\",\"D1N\":\"Brasil\",\"D2C\":\"35\",\"D2N\":\"Produção\",\"D3C\":\"202211\",\"D3N\":\"novembro 2022\",\"D4C\":\"48584\",\"D4N\":\"Safra 2021\",\"D5C\":\"39438\",\"D5N\":\"1.10 Feijão (3ª Safra)\"},{\"NC\":\"1\",\"NN\":\"Brasil\",\"MC\":\"1017\",\"MN\":\"Toneladas\",\"V\":\"67350\",\"D1C\":\"1\",\"D1N\":\"Brasil\",\"D2C\":\"35\",\"D2N\":\"Produção\",\"D3C\":\"202211\",\"D3N\":\"novembro 2022\",\"D4C\":\"48584\",\"D4N\":\"Safra 2021\",\"D5C\":\"39439\",\"D5N\":\"1.11 Girassol\"},{\"NC\":\"1\",\"NN\":\"Brasil\",\"MC\":\"1017\",\"MN\":\"Toneladas\",\"V\":\"29480\",\"D1C\":\"1\",\"D1N\":\"Brasil\",\"D2C\":\"35\",\"D2N\":\"Produção\",\"D3C\":\"202211\",\"D3N\":\"novembro 2022\",\"D4C\":\"48584\",\"D4N\":\"Safra 2021\",\"D5C\":\"39440\",\"D5N\":\"1.12 Mamona\"},{\"NC\":\"1\",\"NN\":\"Brasil\",\"MC\":\"1017\",\"MN\":\"Toneladas\",\"V\":\"25662204\",\"D1C\":\"1\",\"D1N\":\"Brasil\",\"D2C\":\"35\",\"D2N\":\"Produção\",\"D3C\":\"202211\",\"D3N\":\"novembro 2022\",\"D4C\":\"48584\",\"D4N\":\"Safra 2021\",\"D5C\":\"39441\",\"D5N\":\"1.13 Milho (1ª Safra)\"},{\"NC\":\"1\",\"NN\":\"Brasil\",\"MC\":\"1017\",\"MN\":\"Toneladas\",\"V\":\"62124916\",\"D1C\":\"1\",\"D1N\":\"Brasil\",\"D2C\":\"35\",\"D2N\":\"Produção\",\"D3C\":\"202211\",\"D3N\":\"novembro 2022\",\"D4C\":\"48584\",\"D4N\":\"Safra 2021\",\"D5C\":\"39442\",\"D5N\":\"1.14 Milho (2ª Safra)\"},{\"NC\":\"1\",\"NN\":\"Brasil\",\"MC\":\"1017\",\"MN\":\"Toneladas\",\"V\":\"134933704\",\"D1C\":\"1\",\"D1N\":\"Brasil\",\"D2C\":\"35\",\"D2N\":\"Produção\",\"D3C\":\"202211\",\"D3N\":\"novembro 2022\",\"D4C\":\"48584\",\"D4N\":\"Safra 2021\",\"D5C\":\"39443\",\"D5N\":\"1.15 Soja\"},{\"NC\":\"1\",\"NN\":\"Brasil\",\"MC\":\"1017\",\"MN\":\"Toneladas\",\"V\":\"2409724\",\"D1C\":\"1\",\"D1N\":\"Brasil\",\"D2C\":\"35\",\"D2N\":\"Produção\",\"D3C\":\"202211\",\"D3N\":\"novembro 2022\",\"D4C\":\"48584\",\"D4N\":\"Safra 2021\",\"D5C\":\"39444\",\"D5N\":\"1.16 Sorgo\"},{\"NC\":\"1\",\"NN\":\"Brasil\",\"MC\":\"1017\",\"MN\":\"Toneladas\",\"V\":\"7816867\",\"D1C\":\"1\",\"D1N\":\"Brasil\",\"D2C\":\"35\",\"D2N\":\"Produção\",\"D3C\":\"202211\",\"D3N\":\"novembro 2022\",\"D4C\":\"48584\",\"D4N\":\"Safra 2021\",\"D5C\":\"39445\",\"D5N\":\"1.17 Trigo\"},{\"NC\":\"1\",\"NN\":\"Brasil\",\"MC\":\"1017\",\"MN\":\"Toneladas\",\"V\":\"43986\",\"D1C\":\"1\",\"D1N\":\"Brasil\",\"D2C\":\"35\",\"D2N\":\"Produção\",\"D3C\":\"202211\",\"D3N\":\"novembro 2022\",\"D4C\":\"48584\",\"D4N\":\"Safra 2021\",\"D5C\":\"39446\",\"D5N\":\"1.18 Triticale\"},{\"NC\":\"1\",\"NN\":\"Brasil\",\"MC\":\"1017\",\"MN\":\"Toneladas\",\"V\":\"7018879\",\"D1C\":\"1\",\"D1N\":\"Brasil\",\"D2C\":\"35\",\"D2N\":\"Produção\",\"D3C\":\"202211\",\"D3N\":\"novembro 2022\",\"D4C\":\"48584\",\"D4N\":\"Safra 2021\",\"D5C\":\"39449\",\"D5N\":\"4 Banana\"},{\"NC\":\"1\",\"NN\":\"Brasil\",\"MC\":\"1017\",\"MN\":\"Toneladas\",\"V\":\"1853937\",\"D1C\":\"1\",\"D1N\":\"Brasil\",\"D2C\":\"35\",\"D2N\":\"Produção\",\"D3C\":\"202211\",\"D3N\":\"novembro 2022\",\"D4C\":\"48584\",\"D4N\":\"Safra 2021\",\"D5C\":\"39450\",\"D5N\":\"5 Batata - inglesa (1ª Safra)\"},{\"NC\":\"1\",\"NN\":\"Brasil\",\"MC\":\"1017\",\"MN\":\"Toneladas\",\"V\":\"1240124\",\"D1C\":\"1\",\"D1N\":\"Brasil\",\"D2C\":\"35\",\"D2N\":\"Produção\",\"D3C\":\"202211\",\"D3N\":\"novembro 2022\",\"D4C\":\"48584\",\"D4N\":\"Safra 2021\",\"D5C\":\"39451\",\"D5N\":\"6 Batata - inglesa (2ª Safra)\"},{\"NC\":\"1\",\"NN\":\"Brasil\",\"MC\":\"1017\",\"MN\":\"Toneladas\",\"V\":\"1032550\",\"D1C\":\"1\",\"D1N\":\"Brasil\",\"D2C\":\"35\",\"D2N\":\"Produção\",\"D3C\":\"202211\",\"D3N\":\"novembro 2022\",\"D4C\":\"48584\",\"D4N\":\"Safra 2021\",\"D5C\":\"39452\",\"D5N\":\"7 Batata - inglesa (3ª Safra)\"},{\"NC\":\"1\",\"NN\":\"Brasil\",\"MC\":\"1017\",\"MN\":\"Toneladas\",\"V\":\"310537\",\"D1C\":\"1\",\"D1N\":\"Brasil\",\"D2C\":\"35\",\"D2N\":\"Produção\",\"D3C\":\"202211\",\"D3N\":\"novembro 2022\",\"D4C\":\"48584\",\"D4N\":\"Safra 2021\",\"D5C\":\"39453\",\"D5N\":\"8 Cacau\"},{\"NC\":\"1\",\"NN\":\"Brasil\",\"MC\":\"1017\",\"MN\":\"Toneladas\",\"V\":\"1922222\",\"D1C\":\"1\",\"D1N\":\"Brasil\",\"D2C\":\"35\",\"D2N\":\"Produção\",\"D3C\":\"202211\",\"D3N\":\"novembro 2022\",\"D4C\":\"48584\",\"D4N\":\"Safra 2021\",\"D5C\":\"39454\",\"D5N\":\"9 Café arábica\"},{\"NC\":\"1\",\"NN\":\"Brasil\",\"MC\":\"1017\",\"MN\":\"Toneladas\",\"V\":\"1018281\",\"D1C\":\"1\",\"D1N\":\"Brasil\",\"D2C\":\"35\",\"D2N\":\"Produção\",\"D3C\":\"202211\",\"D3N\":\"novembro 2022\",\"D4C\":\"48584\",\"D4N\":\"Safra 2021\",\"D5C\":\"39455\",\"D5N\":\"10 Café canephora\"},{\"NC\":\"1\",\"NN\":\"Brasil\",\"MC\":\"1017\",\"MN\":\"Toneladas\",\"V\":\"609281544\",\"D1C\":\"1\",\"D1N\":\"Brasil\",\"D2C\":\"35\",\"D2N\":\"Produção\",\"D3C\":\"202211\",\"D3N\":\"novembro 2022\",\"D4C\":\"48584\",\"D4N\":\"Safra 2021\",\"D5C\":\"39456\",\"D5N\":\"11 Cana-de-açúcar\"},{\"NC\":\"1\",\"NN\":\"Brasil\",\"MC\":\"1017\",\"MN\":\"Toneladas\",\"V\":\"110669\",\"D1C\":\"1\",\"D1N\":\"Brasil\",\"D2C\":\"35\",\"D2N\":\"Produção\",\"D3C\":\"202211\",\"D3N\":\"novembro 2022\",\"D4C\":\"48584\",\"D4N\":\"Safra 2021\",\"D5C\":\"39457\",\"D5N\":\"12 Castanha-de-caju\"},{\"NC\":\"1\",\"NN\":\"Brasil\",\"MC\":\"1017\",\"MN\":\"Toneladas\",\"V\":\"716356\",\"D1C\":\"1\",\"D1N\":\"Brasil\",\"D2C\":\"35\",\"D2N\":\"Produção\",\"D3C\":\"202211\",\"D3N\":\"novembro 2022\",\"D4C\":\"48584\",\"D4N\":\"Safra 2021\",\"D5C\":\"39460\",\"D5N\":\"15 Fumo\"},{\"NC\":\"1\",\"NN\":\"Brasil\",\"MC\":\"1017\",\"MN\":\"Toneladas\",\"V\":\"-\",\"D1C\":\"1\",\"D1N\":\"Brasil\",\"D2C\":\"35\",\"D2N\":\"Produção\",\"D3C\":\"202211\",\"D3N\":\"novembro 2022\",\"D4C\":\"48584\",\"D4N\":\"Safra 2021\",\"D5C\":\"39462\",\"D5N\":\"17 Juta\"},{\"NC\":\"1\",\"NN\":\"Brasil\",\"MC\":\"1017\",\"MN\":\"Toneladas\",\"V\":\"16019990\",\"D1C\":\"1\",\"D1N\":\"Brasil\",\"D2C\":\"35\",\"D2N\":\"Produção\",\"D3C\":\"202211\",\"D3N\":\"novembro 2022\",\"D4C\":\"48584\",\"D4N\":\"Safra 2021\",\"D5C\":\"39463\",\"D5N\":\"18 Laranja\"},{\"NC\":\"1\",\"NN\":\"Brasil\",\"MC\":\"1017\",\"MN\":\"Toneladas\",\"V\":\"18496182\",\"D1C\":\"1\",\"D1N\":\"Brasil\",\"D2C\":\"35\",\"D2N\":\"Produção\",\"D3C\":\"202211\",\"D3N\":\"novembro 2022\",\"D4C\":\"48584\",\"D4N\":\"Safra 2021\",\"D5C\":\"39467\",\"D5N\":\"21 Mandioca\"},{\"NC\":\"1\",\"NN\":\"Brasil\",\"MC\":\"1017\",\"MN\":\"Toneladas\",\"V\":\"3886009\",\"D1C\":\"1\",\"D1N\":\"Brasil\",\"D2C\":\"35\",\"D2N\":\"Produção\",\"D3C\":\"202211\",\"D3N\":\"novembro 2022\",\"D4C\":\"48584\",\"D4N\":\"Safra 2021\",\"D5C\":\"39470\",\"D5N\":\"24 Tomate\"},{\"NC\":\"1\",\"NN\":\"Brasil\",\"MC\":\"1017\",\"MN\":\"Toneladas\",\"V\":\"1702660\",\"D1C\":\"1\",\"D1N\":\"Brasil\",\"D2C\":\"35\",\"D2N\":\"Produção\",\"D3C\":\"202211\",\"D3N\":\"novembro 2022\",\"D4C\":\"48584\",\"D4N\":\"Safra 2021\",\"D5C\":\"39471\",\"D5N\":\"25 Uva\"},{\"NC\":\"1\",\"NN\":\"Brasil\",\"MC\":\"\",\"MN\":\"\",\"V\":\"..\",\"D1C\":\"1\",\"D1N\":\"Brasil\",\"D2C\":\"35\",\"D2N\":\"Produção\",\"D3C\":\"202211\",\"D3N\":\"novembro 2022\",\"D4C\":\"50483\",\"D4N\":\"Safra 2022\",\"D5C\":\"0\",\"D5N\":\"Total\"},{\"NC\":\"1\",\"NN\":\"Brasil\",\"MC\":\"1017\",\"MN\":\"Toneladas\",\"V\":\"262653469\",\"D1C\":\"1\",\"D1N\":\"Brasil\",\"D2C\":\"35\",\"D2N\":\"Produção\",\"D3C\":\"202211\",\"D3N\":\"novembro 2022\",\"D4C\":\"50483\",\"D4N\":\"Safra 2022\",\"D5C\":\"39428\",\"D5N\":\"1 Cereais, leguminosas e oleaginosas\"},{\"NC\":\"1\",\"NN\":\"Brasil\",\"MC\":\"1017\",\"MN\":\"Toneladas\",\"V\":\"6739711\",\"D1C\":\"1\",\"D1N\":\"Brasil\",\"D2C\":\"35\",\"D2N\":\"Produção\",\"D3C\":\"202211\",\"D3N\":\"novembro 2022\",\"D4C\":\"50483\",\"D4N\":\"Safra 2022\",\"D5C\":\"39429\",\"D5N\":\"1.1 Algodão herbáceo\"},{\"NC\":\"1\",\"NN\":\"Brasil\",\"MC\":\"1017\",\"MN\":\"Toneladas\",\"V\":\"834912\",\"D1C\":\"1\",\"D1N\":\"Brasil\",\"D2C\":\"35\",\"D2N\":\"Produção\",\"D3C\":\"202211\",\"D3N\":\"novembro 2022\",\"D4C\":\"50483\",\"D4N\":\"Safra 2022\",\"D5C\":\"39430\",\"D5N\":\"1.2 Amendoim (1ª Safra)\"},{\"NC\":\"1\",\"NN\":\"Brasil\",\"MC\":\"1017\",\"MN\":\"Toneladas\",\"V\":\"11663\",\"D1C\":\"1\",\"D1N\":\"Brasil\",\"D2C\":\"35\",\"D2N\":\"Produção\",\"D3C\":\"202211\",\"D3N\":\"novembro 2022\",\"D4C\":\"50483\",\"D4N\":\"Safra 2022\",\"D5C\":\"39431\",\"D5N\":\"1.3 Amendoim (2ª Safra)\"},{\"NC\":\"1\",\"NN\":\"Brasil\",\"MC\":\"1017\",\"MN\":\"Toneladas\",\"V\":\"10666334\",\"D1C\":\"1\",\"D1N\":\"Brasil\",\"D2C\":\"35\",\"D2N\":\"Produção\",\"D3C\":\"202211\",\"D3N\":\"novembro 2022\",\"D4C\":\"50483\",\"D4N\":\"Safra 2022\",\"D5C\":\"39432\",\"D5N\":\"1.4 Arroz\"},{\"NC\":\"1\",\"NN\":\"Brasil\",\"MC\":\"1017\",\"MN\":\"Toneladas\",\"V\":\"1164978\",\"D1C\":\"1\",\"D1N\":\"Brasil\",\"D2C\":\"35\",\"D2N\":\"Produção\",\"D3C\":\"202211\",\"D3N\":\"novembro 2022\",\"D4C\":\"50483\",\"D4N\":\"Safra 2022\",\"D5C\":\"39433\",\"D5N\":\"1.5 Aveia\"},{\"NC\":\"1\",\"NN\":\"Brasil\",\"MC\":\"1017\",\"MN\":\"Toneladas\",\"V\":\"7701\",\"D1C\":\"1\",\"D1N\":\"Brasil\",\"D2C\":\"35\",\"D2N\":\"Produção\",\"D3C\":\"202211\",\"D3N\":\"novembro 2022\",\"D4C\":\"50483\",\"D4N\":\"Safra 2022\",\"D5C\":\"39434\",\"D5N\":\"1.6 Centeio\"},{\"NC\":\"1\",\"NN\":\"Brasil\",\"MC\":\"1017\",\"MN\":\"Toneladas\",\"V\":\"502527\",\"D1C\":\"1\",\"D1N\":\"Brasil\",\"D2C\":\"35\",\"D2N\":\"Produção\",\"D3C\":\"202211\",\"D3N\":\"novembro 2022\",\"D4C\":\"50483\",\"D4N\":\"Safra 2022\",\"D5C\":\"39435\",\"D5N\":\"1.7 Cevada\"},{\"NC\":\"1\",\"NN\":\"Brasil\",\"MC\":\"1017\",\"MN\":\"Toneladas\",\"V\":\"1085264\",\"D1C\":\"1\",\"D1N\":\"Brasil\",\"D2C\":\"35\",\"D2N\":\"Produção\",\"D3C\":\"202211\",\"D3N\":\"novembro 2022\",\"D4C\":\"50483\",\"D4N\":\"Safra 2022\",\"D5C\":\"39436\",\"D5N\":\"1.8 Feijão (1ª Safra)\"},{\"NC\":\"1\",\"NN\":\"Brasil\",\"MC\":\"1017\",\"MN\":\"Toneladas\",\"V\":\"1344228\",\"D1C\":\"1\",\"D1N\":\"Brasil\",\"D2C\":\"35\",\"D2N\":\"Produção\",\"D3C\":\"202211\",\"D3N\":\"novembro 2022\",\"D4C\":\"50483\",\"D4N\":\"Safra 2022\",\"D5C\":\"39437\",\"D5N\":\"1.9 Feijão (2ª Safra)\"},{\"NC\":\"1\",\"NN\":\"Brasil\",\"MC\":\"1017\",\"MN\":\"Toneladas\",\"V\":\"659387\",\"D1C\":\"1\",\"D1N\":\"Brasil\",\"D2C\":\"35\",\"D2N\":\"Produção\",\"D3C\":\"202211\",\"D3N\":\"novembro 2022\",\"D4C\":\"50483\",\"D4N\":\"Safra 2022\",\"D5C\":\"39438\",\"D5N\":\"1.10 Feijão (3ª Safra)\"},{\"NC\":\"1\",\"NN\":\"Brasil\",\"MC\":\"1017\",\"MN\":\"Toneladas\",\"V\":\"60361\",\"D1C\":\"1\",\"D1N\":\"Brasil\",\"D2C\":\"35\",\"D2N\":\"Produção\",\"D3C\":\"202211\",\"D3N\":\"novembro 2022\",\"D4C\":\"50483\",\"D4N\":\"Safra 2022\",\"D5C\":\"39439\",\"D5N\":\"1.11 Girassol\"},{\"NC\":\"1\",\"NN\":\"Brasil\",\"MC\":\"1017\",\"MN\":\"Toneladas\",\"V\":\"38924\",\"D1C\":\"1\",\"D1N\":\"Brasil\",\"D2C\":\"35\",\"D2N\":\"Produção\",\"D3C\":\"202211\",\"D3N\":\"novembro 2022\",\"D4C\":\"50483\",\"D4N\":\"Safra 2022\",\"D5C\":\"39440\",\"D5N\":\"1.12 Mamona\"},{\"NC\":\"1\",\"NN\":\"Brasil\",\"MC\":\"1017\",\"MN\":\"Toneladas\",\"V\":\"25413392\",\"D1C\":\"1\",\"D1N\":\"Brasil\",\"D2C\":\"35\",\"D2N\":\"Produção\",\"D3C\":\"202211\",\"D3N\":\"novembro 2022\",\"D4C\":\"50483\",\"D4N\":\"Safra 2022\",\"D5C\":\"39441\",\"D5N\":\"1.13 Milho (1ª Safra)\"},{\"NC\":\"1\",\"NN\":\"Brasil\",\"MC\":\"1017\",\"MN\":\"Toneladas\",\"V\":\"84730503\",\"D1C\":\"1\",\"D1N\":\"Brasil\",\"D2C\":\"35\",\"D2N\":\"Produção\",\"D3C\":\"202211\",\"D3N\":\"novembro 2022\",\"D4C\":\"50483\",\"D4N\":\"Safra 2022\",\"D5C\":\"39442\",\"D5N\":\"1.14 Milho (2ª Safra)\"},{\"NC\":\"1\",\"NN\":\"Brasil\",\"MC\":\"1017\",\"MN\":\"Toneladas\",\"V\":\"119541186\",\"D1C\":\"1\",\"D1N\":\"Brasil\",\"D2C\":\"35\",\"D2N\":\"Produção\",\"D3C\":\"202211\",\"D3N\":\"novembro 2022\",\"D4C\":\"50483\",\"D4N\":\"Safra 2022\",\"D5C\":\"39443\",\"D5N\":\"1.15 Soja\"},{\"NC\":\"1\",\"NN\":\"Brasil\",\"MC\":\"1017\",\"MN\":\"Toneladas\",\"V\":\"2858768\",\"D1C\":\"1\",\"D1N\":\"Brasil\",\"D2C\":\"35\",\"D2N\":\"Produção\",\"D3C\":\"202211\",\"D3N\":\"novembro 2022\",\"D4C\":\"50483\",\"D4N\":\"Safra 2022\",\"D5C\":\"39444\",\"D5N\":\"1.16 Sorgo\"},{\"NC\":\"1\",\"NN\":\"Brasil\",\"MC\":\"1017\",\"MN\":\"Toneladas\",\"V\":\"9559800\",\"D1C\":\"1\",\"D1N\":\"Brasil\",\"D2C\":\"35\",\"D2N\":\"Produção\",\"D3C\":\"202211\",\"D3N\":\"novembro 2022\",\"D4C\":\"50483\",\"D4N\":\"Safra 2022\",\"D5C\":\"39445\",\"D5N\":\"1.17 Trigo\"},{\"NC\":\"1\",\"NN\":\"Brasil\",\"MC\":\"1017\",\"MN\":\"Toneladas\",\"V\":\"62317\",\"D1C\":\"1\",\"D1N\":\"Brasil\",\"D2C\":\"35\",\"D2N\":\"Produção\",\"D3C\":\"202211\",\"D3N\":\"novembro 2022\",\"D4C\":\"50483\",\"D4N\":\"Safra 2022\",\"D5C\":\"39446\",\"D5N\":\"1.18 Triticale\"},{\"NC\":\"1\",\"NN\":\"Brasil\",\"MC\":\"1017\",\"MN\":\"Toneladas\",\"V\":\"7083431\",\"D1C\":\"1\",\"D1N\":\"Brasil\",\"D2C\":\"35\",\"D2N\":\"Produção\",\"D3C\":\"202211\",\"D3N\":\"novembro 2022\",\"D4C\":\"50483\",\"D4N\":\"Safra 2022\",\"D5C\":\"39449\",\"D5N\":\"4 Banana\"},{\"NC\":\"1\",\"NN\":\"Brasil\",\"MC\":\"1017\",\"MN\":\"Toneladas\",\"V\":\"1695829\",\"D1C\":\"1\",\"D1N\":\"Brasil\",\"D2C\":\"35\",\"D2N\":\"Produção\",\"D3C\":\"202211\",\"D3N\":\"novembro 2022\",\"D4C\":\"50483\",\"D4N\":\"Safra 2022\",\"D5C\":\"39450\",\"D5N\":\"5 Batata - inglesa (1ª Safra)\"},{\"NC\":\"1\",\"NN\":\"Brasil\",\"MC\":\"1017\",\"MN\":\"Toneladas\",\"V\":\"1281827\",\"D1C\":\"1\",\"D1N\":\"Brasil\",\"D2C\":\"35\",\"D2N\":\"Produção\",\"D3C\":\"202211\",\"D3N\":\"novembro 2022\",\"D4C\":\"50483\",\"D4N\":\"Safra 2022\",\"D5C\":\"39451\",\"D5N\":\"6 Batata - inglesa (2ª Safra)\"},{\"NC\":\"1\",\"NN\":\"Brasil\",\"MC\":\"1017\",\"MN\":\"Toneladas\",\"V\":\"1069850\",\"D1C\":\"1\",\"D1N\":\"Brasil\",\"D2C\":\"35\",\"D2N\":\"Produção\",\"D3C\":\"202211\",\"D3N\":\"novembro 2022\",\"D4C\":\"50483\",\"D4N\":\"Safra 2022\",\"D5C\":\"39452\",\"D5N\":\"7 Batata - inglesa (3ª Safra)\"},{\"NC\":\"1\",\"NN\":\"Brasil\",\"MC\":\"1017\",\"MN\":\"Toneladas\",\"V\":\"290119\",\"D1C\":\"1\",\"D1N\":\"Brasil\",\"D2C\":\"35\",\"D2N\":\"Produção\",\"D3C\":\"202211\",\"D3N\":\"novembro 2022\",\"D4C\":\"50483\",\"D4N\":\"Safra 2022\",\"D5C\":\"39453\",\"D5N\":\"8 Cacau\"},{\"NC\":\"1\",\"NN\":\"Brasil\",\"MC\":\"1017\",\"MN\":\"Toneladas\",\"V\":\"2027476\",\"D1C\":\"1\",\"D1N\":\"Brasil\",\"D2C\":\"35\",\"D2N\":\"Produção\",\"D3C\":\"202211\",\"D3N\":\"novembro 2022\",\"D4C\":\"50483\",\"D4N\":\"Safra 2022\",\"D5C\":\"39454\",\"D5N\":\"9 Café arábica\"},{\"NC\":\"1\",\"NN\":\"Brasil\",\"MC\":\"1017\",\"MN\":\"Toneladas\",\"V\":\"1103442\",\"D1C\":\"1\",\"D1N\":\"Brasil\",\"D2C\":\"35\",\"D2N\":\"Produção\",\"D3C\":\"202211\",\"D3N\":\"novembro 2022\",\"D4C\":\"50483\",\"D4N\":\"Safra 2022\",\"D5C\":\"39455\",\"D5N\":\"10 Café canephora\"},{\"NC\":\"1\",\"NN\":\"Brasil\",\"MC\":\"1017\",\"MN\":\"Toneladas\",\"V\":\"627088640\",\"D1C\":\"1\",\"D1N\":\"Brasil\",\"D2C\":\"35\",\"D2N\":\"Produção\",\"D3C\":\"202211\",\"D3N\":\"novembro 2022\",\"D4C\":\"50483\",\"D4N\":\"Safra 2022\",\"D5C\":\"39456\",\"D5N\":\"11 Cana-de-açúcar\"},{\"NC\":\"1\",\"NN\":\"Brasil\",\"MC\":\"1017\",\"MN\":\"Toneladas\",\"V\":\"123077\",\"D1C\":\"1\",\"D1N\":\"Brasil\",\"D2C\":\"35\",\"D2N\":\"Produção\",\"D3C\":\"202211\",\"D3N\":\"novembro 2022\",\"D4C\":\"50483\",\"D4N\":\"Safra 2022\",\"D5C\":\"39457\",\"D5N\":\"12 Castanha-de-caju\"},{\"NC\":\"1\",\"NN\":\"Brasil\",\"MC\":\"1017\",\"MN\":\"Toneladas\",\"V\":\"665418\",\"D1C\":\"1\",\"D1N\":\"Brasil\",\"D2C\":\"35\",\"D2N\":\"Produção\",\"D3C\":\"202211\",\"D3N\":\"novembro 2022\",\"D4C\":\"50483\",\"D4N\":\"Safra 2022\",\"D5C\":\"39460\",\"D5N\":\"15 Fumo\"},{\"NC\":\"1\",\"NN\":\"Brasil\",\"MC\":\"1017\",\"MN\":\"Toneladas\",\"V\":\"-\",\"D1C\":\"1\",\"D1N\":\"Brasil\",\"D2C\":\"35\",\"D2N\":\"Produção\",\"D3C\":\"202211\",\"D3N\":\"novembro 2022\",\"D4C\":\"50483\",\"D4N\":\"Safra 2022\",\"D5C\":\"39462\",\"D5N\":\"17 Juta\"},{\"NC\":\"1\",\"NN\":\"Brasil\",\"MC\":\"1017\",\"MN\":\"Toneladas\",\"V\":\"16722361\",\"D1C\":\"1\",\"D1N\":\"Brasil\",\"D2C\":\"35\",\"D2N\":\"Produção\",\"D3C\":\"202211\",\"D3N\":\"novembro 2022\",\"D4C\":\"50483\",\"D4N\":\"Safra 2022\",\"D5C\":\"39463\",\"D5N\":\"18 Laranja\"},{\"NC\":\"1\",\"NN\":\"Brasil\",\"MC\":\"1017\",\"MN\":\"Toneladas\",\"V\":\"18227561\",\"D1C\":\"1\",\"D1N\":\"Brasil\",\"D2C\":\"35\",\"D2N\":\"Produção\",\"D3C\":\"202211\",\"D3N\":\"novembro 2022\",\"D4C\":\"50483\",\"D4N\":\"Safra 2022\",\"D5C\":\"39467\",\"D5N\":\"21 Mandioca\"},{\"NC\":\"1\",\"NN\":\"Brasil\",\"MC\":\"1017\",\"MN\":\"Toneladas\",\"V\":\"3839590\",\"D1C\":\"1\",\"D1N\":\"Brasil\",\"D2C\":\"35\",\"D2N\":\"Produção\",\"D3C\":\"202211\",\"D3N\":\"novembro 2022\",\"D4C\":\"50483\",\"D4N\":\"Safra 2022\",\"D5C\":\"39470\",\"D5N\":\"24 Tomate\"},{\"NC\":\"1\",\"NN\":\"Brasil\",\"MC\":\"1017\",\"MN\":\"Toneladas\",\"V\":\"1502357\",\"D1C\":\"1\",\"D1N\":\"Brasil\",\"D2C\":\"35\",\"D2N\":\"Produção\",\"D3C\":\"202211\",\"D3N\":\"novembro 2022\",\"D4C\":\"50483\",\"D4N\":\"Safra 2022\",\"D5C\":\"39471\",\"D5N\":\"25 Uva\"}]'"
            ],
            "application/vnd.google.colaboratory.intrinsic+json": {
              "type": "string"
            }
          },
          "metadata": {},
          "execution_count": 21
        }
      ]
    },
    {
      "cell_type": "code",
      "source": [
        "data_json=json.loads(dataResponse)"
      ],
      "metadata": {
        "id": "h6KBX3JDpqT4"
      },
      "execution_count": null,
      "outputs": []
    },
    {
      "cell_type": "code",
      "source": [
        "df = pd.read_json(dataResponse)"
      ],
      "metadata": {
        "id": "TGHpU3O1zzfX"
      },
      "execution_count": null,
      "outputs": []
    },
    {
      "cell_type": "code",
      "source": [
        "df.to_csv('teste/teste.csv',index=False)"
      ],
      "metadata": {
        "id": "UP2fV4Sw2GBL"
      },
      "execution_count": null,
      "outputs": []
    },
    {
      "cell_type": "code",
      "source": [
        "df"
      ],
      "metadata": {
        "id": "_e-i9TpQ0JRO",
        "colab": {
          "base_uri": "https://localhost:8080/",
          "height": 424
        },
        "outputId": "9048ec14-4c9c-43c6-9235-ea80297c5549"
      },
      "execution_count": null,
      "outputs": [
        {
          "output_type": "execute_result",
          "data": {
            "text/plain": [
              "          unit     value           type year_month year_harvest  \\\n",
              "3     Hectares   1376225  Area plantada     202211   Safra 2021   \n",
              "4     Hectares    174421  Area plantada     202211   Safra 2021   \n",
              "5     Hectares      6928  Area plantada     202211   Safra 2021   \n",
              "6     Hectares   1680428  Area plantada     202211   Safra 2021   \n",
              "7     Hectares    477008  Area plantada     202211   Safra 2021   \n",
              "..         ...       ...            ...        ...          ...   \n",
              "206  Toneladas         -       Producao     202211   Safra 2022   \n",
              "207  Toneladas  16722361       Producao     202211   Safra 2022   \n",
              "208  Toneladas  18227561       Producao     202211   Safra 2022   \n",
              "209  Toneladas   3839590       Producao     202211   Safra 2022   \n",
              "210  Toneladas   1502357       Producao     202211   Safra 2022   \n",
              "\n",
              "                 product  \n",
              "3       Algodao herbaceo  \n",
              "4    Amendoim (1ª Safra)  \n",
              "5    Amendoim (2ª Safra)  \n",
              "6                  Arroz  \n",
              "7                  Aveia  \n",
              "..                   ...  \n",
              "206                 Juta  \n",
              "207              Laranja  \n",
              "208             Mandioca  \n",
              "209               Tomate  \n",
              "210                  Uva  \n",
              "\n",
              "[198 rows x 6 columns]"
            ],
            "text/html": [
              "\n",
              "  <div id=\"df-32fac8d9-051d-4bdd-881b-56cdd7e55c19\">\n",
              "    <div class=\"colab-df-container\">\n",
              "      <div>\n",
              "<style scoped>\n",
              "    .dataframe tbody tr th:only-of-type {\n",
              "        vertical-align: middle;\n",
              "    }\n",
              "\n",
              "    .dataframe tbody tr th {\n",
              "        vertical-align: top;\n",
              "    }\n",
              "\n",
              "    .dataframe thead th {\n",
              "        text-align: right;\n",
              "    }\n",
              "</style>\n",
              "<table border=\"1\" class=\"dataframe\">\n",
              "  <thead>\n",
              "    <tr style=\"text-align: right;\">\n",
              "      <th></th>\n",
              "      <th>unit</th>\n",
              "      <th>value</th>\n",
              "      <th>type</th>\n",
              "      <th>year_month</th>\n",
              "      <th>year_harvest</th>\n",
              "      <th>product</th>\n",
              "    </tr>\n",
              "  </thead>\n",
              "  <tbody>\n",
              "    <tr>\n",
              "      <th>3</th>\n",
              "      <td>Hectares</td>\n",
              "      <td>1376225</td>\n",
              "      <td>Area plantada</td>\n",
              "      <td>202211</td>\n",
              "      <td>Safra 2021</td>\n",
              "      <td>Algodao herbaceo</td>\n",
              "    </tr>\n",
              "    <tr>\n",
              "      <th>4</th>\n",
              "      <td>Hectares</td>\n",
              "      <td>174421</td>\n",
              "      <td>Area plantada</td>\n",
              "      <td>202211</td>\n",
              "      <td>Safra 2021</td>\n",
              "      <td>Amendoim (1ª Safra)</td>\n",
              "    </tr>\n",
              "    <tr>\n",
              "      <th>5</th>\n",
              "      <td>Hectares</td>\n",
              "      <td>6928</td>\n",
              "      <td>Area plantada</td>\n",
              "      <td>202211</td>\n",
              "      <td>Safra 2021</td>\n",
              "      <td>Amendoim (2ª Safra)</td>\n",
              "    </tr>\n",
              "    <tr>\n",
              "      <th>6</th>\n",
              "      <td>Hectares</td>\n",
              "      <td>1680428</td>\n",
              "      <td>Area plantada</td>\n",
              "      <td>202211</td>\n",
              "      <td>Safra 2021</td>\n",
              "      <td>Arroz</td>\n",
              "    </tr>\n",
              "    <tr>\n",
              "      <th>7</th>\n",
              "      <td>Hectares</td>\n",
              "      <td>477008</td>\n",
              "      <td>Area plantada</td>\n",
              "      <td>202211</td>\n",
              "      <td>Safra 2021</td>\n",
              "      <td>Aveia</td>\n",
              "    </tr>\n",
              "    <tr>\n",
              "      <th>...</th>\n",
              "      <td>...</td>\n",
              "      <td>...</td>\n",
              "      <td>...</td>\n",
              "      <td>...</td>\n",
              "      <td>...</td>\n",
              "      <td>...</td>\n",
              "    </tr>\n",
              "    <tr>\n",
              "      <th>206</th>\n",
              "      <td>Toneladas</td>\n",
              "      <td>-</td>\n",
              "      <td>Producao</td>\n",
              "      <td>202211</td>\n",
              "      <td>Safra 2022</td>\n",
              "      <td>Juta</td>\n",
              "    </tr>\n",
              "    <tr>\n",
              "      <th>207</th>\n",
              "      <td>Toneladas</td>\n",
              "      <td>16722361</td>\n",
              "      <td>Producao</td>\n",
              "      <td>202211</td>\n",
              "      <td>Safra 2022</td>\n",
              "      <td>Laranja</td>\n",
              "    </tr>\n",
              "    <tr>\n",
              "      <th>208</th>\n",
              "      <td>Toneladas</td>\n",
              "      <td>18227561</td>\n",
              "      <td>Producao</td>\n",
              "      <td>202211</td>\n",
              "      <td>Safra 2022</td>\n",
              "      <td>Mandioca</td>\n",
              "    </tr>\n",
              "    <tr>\n",
              "      <th>209</th>\n",
              "      <td>Toneladas</td>\n",
              "      <td>3839590</td>\n",
              "      <td>Producao</td>\n",
              "      <td>202211</td>\n",
              "      <td>Safra 2022</td>\n",
              "      <td>Tomate</td>\n",
              "    </tr>\n",
              "    <tr>\n",
              "      <th>210</th>\n",
              "      <td>Toneladas</td>\n",
              "      <td>1502357</td>\n",
              "      <td>Producao</td>\n",
              "      <td>202211</td>\n",
              "      <td>Safra 2022</td>\n",
              "      <td>Uva</td>\n",
              "    </tr>\n",
              "  </tbody>\n",
              "</table>\n",
              "<p>198 rows × 6 columns</p>\n",
              "</div>\n",
              "      <button class=\"colab-df-convert\" onclick=\"convertToInteractive('df-32fac8d9-051d-4bdd-881b-56cdd7e55c19')\"\n",
              "              title=\"Convert this dataframe to an interactive table.\"\n",
              "              style=\"display:none;\">\n",
              "        \n",
              "  <svg xmlns=\"http://www.w3.org/2000/svg\" height=\"24px\"viewBox=\"0 0 24 24\"\n",
              "       width=\"24px\">\n",
              "    <path d=\"M0 0h24v24H0V0z\" fill=\"none\"/>\n",
              "    <path d=\"M18.56 5.44l.94 2.06.94-2.06 2.06-.94-2.06-.94-.94-2.06-.94 2.06-2.06.94zm-11 1L8.5 8.5l.94-2.06 2.06-.94-2.06-.94L8.5 2.5l-.94 2.06-2.06.94zm10 10l.94 2.06.94-2.06 2.06-.94-2.06-.94-.94-2.06-.94 2.06-2.06.94z\"/><path d=\"M17.41 7.96l-1.37-1.37c-.4-.4-.92-.59-1.43-.59-.52 0-1.04.2-1.43.59L10.3 9.45l-7.72 7.72c-.78.78-.78 2.05 0 2.83L4 21.41c.39.39.9.59 1.41.59.51 0 1.02-.2 1.41-.59l7.78-7.78 2.81-2.81c.8-.78.8-2.07 0-2.86zM5.41 20L4 18.59l7.72-7.72 1.47 1.35L5.41 20z\"/>\n",
              "  </svg>\n",
              "      </button>\n",
              "      \n",
              "  <style>\n",
              "    .colab-df-container {\n",
              "      display:flex;\n",
              "      flex-wrap:wrap;\n",
              "      gap: 12px;\n",
              "    }\n",
              "\n",
              "    .colab-df-convert {\n",
              "      background-color: #E8F0FE;\n",
              "      border: none;\n",
              "      border-radius: 50%;\n",
              "      cursor: pointer;\n",
              "      display: none;\n",
              "      fill: #1967D2;\n",
              "      height: 32px;\n",
              "      padding: 0 0 0 0;\n",
              "      width: 32px;\n",
              "    }\n",
              "\n",
              "    .colab-df-convert:hover {\n",
              "      background-color: #E2EBFA;\n",
              "      box-shadow: 0px 1px 2px rgba(60, 64, 67, 0.3), 0px 1px 3px 1px rgba(60, 64, 67, 0.15);\n",
              "      fill: #174EA6;\n",
              "    }\n",
              "\n",
              "    [theme=dark] .colab-df-convert {\n",
              "      background-color: #3B4455;\n",
              "      fill: #D2E3FC;\n",
              "    }\n",
              "\n",
              "    [theme=dark] .colab-df-convert:hover {\n",
              "      background-color: #434B5C;\n",
              "      box-shadow: 0px 1px 3px 1px rgba(0, 0, 0, 0.15);\n",
              "      filter: drop-shadow(0px 1px 2px rgba(0, 0, 0, 0.3));\n",
              "      fill: #FFFFFF;\n",
              "    }\n",
              "  </style>\n",
              "\n",
              "      <script>\n",
              "        const buttonEl =\n",
              "          document.querySelector('#df-32fac8d9-051d-4bdd-881b-56cdd7e55c19 button.colab-df-convert');\n",
              "        buttonEl.style.display =\n",
              "          google.colab.kernel.accessAllowed ? 'block' : 'none';\n",
              "\n",
              "        async function convertToInteractive(key) {\n",
              "          const element = document.querySelector('#df-32fac8d9-051d-4bdd-881b-56cdd7e55c19');\n",
              "          const dataTable =\n",
              "            await google.colab.kernel.invokeFunction('convertToInteractive',\n",
              "                                                     [key], {});\n",
              "          if (!dataTable) return;\n",
              "\n",
              "          const docLinkHtml = 'Like what you see? Visit the ' +\n",
              "            '<a target=\"_blank\" href=https://colab.research.google.com/notebooks/data_table.ipynb>data table notebook</a>'\n",
              "            + ' to learn more about interactive tables.';\n",
              "          element.innerHTML = '';\n",
              "          dataTable['output_type'] = 'display_data';\n",
              "          await google.colab.output.renderOutput(dataTable, element);\n",
              "          const docLink = document.createElement('div');\n",
              "          docLink.innerHTML = docLinkHtml;\n",
              "          element.appendChild(docLink);\n",
              "        }\n",
              "      </script>\n",
              "    </div>\n",
              "  </div>\n",
              "  "
            ]
          },
          "metadata": {},
          "execution_count": 15
        }
      ]
    },
    {
      "cell_type": "markdown",
      "source": [
        "# Tratar o arquivo com pandas (Retirar todos os acentos)\n"
      ],
      "metadata": {
        "id": "cOppgzkkKTgs"
      }
    },
    {
      "cell_type": "code",
      "source": [
        "pd.set_option('display.max_rows', 210)"
      ],
      "metadata": {
        "id": "jOGwevCJv9ht"
      },
      "execution_count": null,
      "outputs": []
    },
    {
      "cell_type": "code",
      "source": [
        "df = pd.read_csv('/content/teste/teste.csv')"
      ],
      "metadata": {
        "id": "pkbq_SkvrGDf"
      },
      "execution_count": null,
      "outputs": []
    },
    {
      "cell_type": "code",
      "source": [
        "df.drop(['NC','NN','MC','D1C','D1N','D2C','D3N','D4C','D5C'], axis=1, inplace=True)"
      ],
      "metadata": {
        "id": "VeIvp4pawQtn"
      },
      "execution_count": null,
      "outputs": []
    },
    {
      "cell_type": "code",
      "source": [
        "df.rename(columns={'MN':'unit','V':'value','D2N':'type','D3C':'year_month','D4N':'year_harvest','D5N':'product'}, inplace=True)"
      ],
      "metadata": {
        "id": "Zc64RgAlyq39"
      },
      "execution_count": null,
      "outputs": []
    },
    {
      "cell_type": "code",
      "source": [
        "df = df.drop(0)"
      ],
      "metadata": {
        "id": "2rtbcccb1Kw0"
      },
      "execution_count": null,
      "outputs": []
    },
    {
      "cell_type": "code",
      "source": [
        "# Excluir as linhas repetidas \n",
        "filtro1 = df['product']!='1 Cereais, leguminosas e oleaginosas'\n",
        "filtro2 = df['product']!='Total'\n",
        "df = df.loc[filtro1 & filtro2]"
      ],
      "metadata": {
        "id": "QD4jn_Tx3axV"
      },
      "execution_count": null,
      "outputs": []
    },
    {
      "cell_type": "code",
      "source": [
        "df['product'] = df['product'].str.replace('.','1')"
      ],
      "metadata": {
        "colab": {
          "base_uri": "https://localhost:8080/"
        },
        "id": "GhnoUi8igyLP",
        "outputId": "7842c11f-4a2b-436a-b443-781fae475aac"
      },
      "execution_count": null,
      "outputs": [
        {
          "output_type": "stream",
          "name": "stderr",
          "text": [
            "<ipython-input-12-014af732ecc7>:1: FutureWarning: The default value of regex will change from True to False in a future version. In addition, single character regular expressions will *not* be treated as literal strings when regex=True.\n",
            "  df['product'] = df['product'].str.replace('.','1')\n"
          ]
        }
      ]
    },
    {
      "cell_type": "code",
      "source": [
        "# retirando os números da coluna product e substituir o caracter ª por a\n",
        "df['product'] = df['product'].str.replace(r'\\d+ \\b', '', regex=True)\n",
        "\n",
        "# Retirar todos os acentos \n",
        "df.replace('ç','c', regex=True, inplace=True)\n",
        "df.replace(['ã','á'],'a', regex=True, inplace=True)\n",
        "df.replace('é','e', regex=True, inplace=True)\n",
        "df.replace('Á','A', regex=True, inplace=True)\n",
        "df.replace('ú','u', regex=True, inplace=True)"
      ],
      "metadata": {
        "id": "9LFVZU6o_hFf"
      },
      "execution_count": null,
      "outputs": []
    },
    {
      "cell_type": "code",
      "source": [
        "df['year_harvest'] = df['year_harvest'].str.replace('Safra','')\n",
        "df['year_month']= pd.to_datetime(df['year_month'], format='%Y%m') \n",
        "df['year_harvest'] = df['year_harvest'].astype(int)\n",
        "df['value'] = df['value'].str.replace('-','0')\n",
        "df['value'] = df['value'].astype(int)\n",
        "df['created_at']=pd.Timestamp.today() "
      ],
      "metadata": {
        "id": "0PdGabMK5jsV"
      },
      "execution_count": null,
      "outputs": []
    },
    {
      "cell_type": "code",
      "source": [
        "df"
      ],
      "metadata": {
        "colab": {
          "base_uri": "https://localhost:8080/",
          "height": 641
        },
        "id": "GvPILBteN-b7",
        "outputId": "5b842a8c-8d4f-4a3f-defc-d86c6e3ce061"
      },
      "execution_count": null,
      "outputs": [
        {
          "output_type": "execute_result",
          "data": {
            "text/plain": [
              "          unit     value           type year_month  year_harvest  \\\n",
              "3     Hectares   1376225  Area plantada 2022-11-01          2021   \n",
              "4     Hectares    174421  Area plantada 2022-11-01          2021   \n",
              "5     Hectares      6928  Area plantada 2022-11-01          2021   \n",
              "6     Hectares   1680428  Area plantada 2022-11-01          2021   \n",
              "7     Hectares    477008  Area plantada 2022-11-01          2021   \n",
              "..         ...       ...            ...        ...           ...   \n",
              "206  Toneladas         0       Producao 2022-11-01          2022   \n",
              "207  Toneladas  16722361       Producao 2022-11-01          2022   \n",
              "208  Toneladas  18227561       Producao 2022-11-01          2022   \n",
              "209  Toneladas   3839590       Producao 2022-11-01          2022   \n",
              "210  Toneladas   1502357       Producao 2022-11-01          2022   \n",
              "\n",
              "                 product                 created_at  \n",
              "3       Algodao herbaceo 2022-12-14 23:23:54.691614  \n",
              "4    Amendoim (1ª Safra) 2022-12-14 23:23:54.691614  \n",
              "5    Amendoim (2ª Safra) 2022-12-14 23:23:54.691614  \n",
              "6                  Arroz 2022-12-14 23:23:54.691614  \n",
              "7                  Aveia 2022-12-14 23:23:54.691614  \n",
              "..                   ...                        ...  \n",
              "206                 Juta 2022-12-14 23:23:54.691614  \n",
              "207              Laranja 2022-12-14 23:23:54.691614  \n",
              "208             Mandioca 2022-12-14 23:23:54.691614  \n",
              "209               Tomate 2022-12-14 23:23:54.691614  \n",
              "210                  Uva 2022-12-14 23:23:54.691614  \n",
              "\n",
              "[198 rows x 7 columns]"
            ],
            "text/html": [
              "\n",
              "  <div id=\"df-33eb0c2b-893f-4dbe-9f3e-5dc9634a306a\">\n",
              "    <div class=\"colab-df-container\">\n",
              "      <div>\n",
              "<style scoped>\n",
              "    .dataframe tbody tr th:only-of-type {\n",
              "        vertical-align: middle;\n",
              "    }\n",
              "\n",
              "    .dataframe tbody tr th {\n",
              "        vertical-align: top;\n",
              "    }\n",
              "\n",
              "    .dataframe thead th {\n",
              "        text-align: right;\n",
              "    }\n",
              "</style>\n",
              "<table border=\"1\" class=\"dataframe\">\n",
              "  <thead>\n",
              "    <tr style=\"text-align: right;\">\n",
              "      <th></th>\n",
              "      <th>unit</th>\n",
              "      <th>value</th>\n",
              "      <th>type</th>\n",
              "      <th>year_month</th>\n",
              "      <th>year_harvest</th>\n",
              "      <th>product</th>\n",
              "      <th>created_at</th>\n",
              "    </tr>\n",
              "  </thead>\n",
              "  <tbody>\n",
              "    <tr>\n",
              "      <th>3</th>\n",
              "      <td>Hectares</td>\n",
              "      <td>1376225</td>\n",
              "      <td>Area plantada</td>\n",
              "      <td>2022-11-01</td>\n",
              "      <td>2021</td>\n",
              "      <td>Algodao herbaceo</td>\n",
              "      <td>2022-12-14 23:23:54.691614</td>\n",
              "    </tr>\n",
              "    <tr>\n",
              "      <th>4</th>\n",
              "      <td>Hectares</td>\n",
              "      <td>174421</td>\n",
              "      <td>Area plantada</td>\n",
              "      <td>2022-11-01</td>\n",
              "      <td>2021</td>\n",
              "      <td>Amendoim (1ª Safra)</td>\n",
              "      <td>2022-12-14 23:23:54.691614</td>\n",
              "    </tr>\n",
              "    <tr>\n",
              "      <th>5</th>\n",
              "      <td>Hectares</td>\n",
              "      <td>6928</td>\n",
              "      <td>Area plantada</td>\n",
              "      <td>2022-11-01</td>\n",
              "      <td>2021</td>\n",
              "      <td>Amendoim (2ª Safra)</td>\n",
              "      <td>2022-12-14 23:23:54.691614</td>\n",
              "    </tr>\n",
              "    <tr>\n",
              "      <th>6</th>\n",
              "      <td>Hectares</td>\n",
              "      <td>1680428</td>\n",
              "      <td>Area plantada</td>\n",
              "      <td>2022-11-01</td>\n",
              "      <td>2021</td>\n",
              "      <td>Arroz</td>\n",
              "      <td>2022-12-14 23:23:54.691614</td>\n",
              "    </tr>\n",
              "    <tr>\n",
              "      <th>7</th>\n",
              "      <td>Hectares</td>\n",
              "      <td>477008</td>\n",
              "      <td>Area plantada</td>\n",
              "      <td>2022-11-01</td>\n",
              "      <td>2021</td>\n",
              "      <td>Aveia</td>\n",
              "      <td>2022-12-14 23:23:54.691614</td>\n",
              "    </tr>\n",
              "    <tr>\n",
              "      <th>...</th>\n",
              "      <td>...</td>\n",
              "      <td>...</td>\n",
              "      <td>...</td>\n",
              "      <td>...</td>\n",
              "      <td>...</td>\n",
              "      <td>...</td>\n",
              "      <td>...</td>\n",
              "    </tr>\n",
              "    <tr>\n",
              "      <th>206</th>\n",
              "      <td>Toneladas</td>\n",
              "      <td>0</td>\n",
              "      <td>Producao</td>\n",
              "      <td>2022-11-01</td>\n",
              "      <td>2022</td>\n",
              "      <td>Juta</td>\n",
              "      <td>2022-12-14 23:23:54.691614</td>\n",
              "    </tr>\n",
              "    <tr>\n",
              "      <th>207</th>\n",
              "      <td>Toneladas</td>\n",
              "      <td>16722361</td>\n",
              "      <td>Producao</td>\n",
              "      <td>2022-11-01</td>\n",
              "      <td>2022</td>\n",
              "      <td>Laranja</td>\n",
              "      <td>2022-12-14 23:23:54.691614</td>\n",
              "    </tr>\n",
              "    <tr>\n",
              "      <th>208</th>\n",
              "      <td>Toneladas</td>\n",
              "      <td>18227561</td>\n",
              "      <td>Producao</td>\n",
              "      <td>2022-11-01</td>\n",
              "      <td>2022</td>\n",
              "      <td>Mandioca</td>\n",
              "      <td>2022-12-14 23:23:54.691614</td>\n",
              "    </tr>\n",
              "    <tr>\n",
              "      <th>209</th>\n",
              "      <td>Toneladas</td>\n",
              "      <td>3839590</td>\n",
              "      <td>Producao</td>\n",
              "      <td>2022-11-01</td>\n",
              "      <td>2022</td>\n",
              "      <td>Tomate</td>\n",
              "      <td>2022-12-14 23:23:54.691614</td>\n",
              "    </tr>\n",
              "    <tr>\n",
              "      <th>210</th>\n",
              "      <td>Toneladas</td>\n",
              "      <td>1502357</td>\n",
              "      <td>Producao</td>\n",
              "      <td>2022-11-01</td>\n",
              "      <td>2022</td>\n",
              "      <td>Uva</td>\n",
              "      <td>2022-12-14 23:23:54.691614</td>\n",
              "    </tr>\n",
              "  </tbody>\n",
              "</table>\n",
              "<p>198 rows × 7 columns</p>\n",
              "</div>\n",
              "      <button class=\"colab-df-convert\" onclick=\"convertToInteractive('df-33eb0c2b-893f-4dbe-9f3e-5dc9634a306a')\"\n",
              "              title=\"Convert this dataframe to an interactive table.\"\n",
              "              style=\"display:none;\">\n",
              "        \n",
              "  <svg xmlns=\"http://www.w3.org/2000/svg\" height=\"24px\"viewBox=\"0 0 24 24\"\n",
              "       width=\"24px\">\n",
              "    <path d=\"M0 0h24v24H0V0z\" fill=\"none\"/>\n",
              "    <path d=\"M18.56 5.44l.94 2.06.94-2.06 2.06-.94-2.06-.94-.94-2.06-.94 2.06-2.06.94zm-11 1L8.5 8.5l.94-2.06 2.06-.94-2.06-.94L8.5 2.5l-.94 2.06-2.06.94zm10 10l.94 2.06.94-2.06 2.06-.94-2.06-.94-.94-2.06-.94 2.06-2.06.94z\"/><path d=\"M17.41 7.96l-1.37-1.37c-.4-.4-.92-.59-1.43-.59-.52 0-1.04.2-1.43.59L10.3 9.45l-7.72 7.72c-.78.78-.78 2.05 0 2.83L4 21.41c.39.39.9.59 1.41.59.51 0 1.02-.2 1.41-.59l7.78-7.78 2.81-2.81c.8-.78.8-2.07 0-2.86zM5.41 20L4 18.59l7.72-7.72 1.47 1.35L5.41 20z\"/>\n",
              "  </svg>\n",
              "      </button>\n",
              "      \n",
              "  <style>\n",
              "    .colab-df-container {\n",
              "      display:flex;\n",
              "      flex-wrap:wrap;\n",
              "      gap: 12px;\n",
              "    }\n",
              "\n",
              "    .colab-df-convert {\n",
              "      background-color: #E8F0FE;\n",
              "      border: none;\n",
              "      border-radius: 50%;\n",
              "      cursor: pointer;\n",
              "      display: none;\n",
              "      fill: #1967D2;\n",
              "      height: 32px;\n",
              "      padding: 0 0 0 0;\n",
              "      width: 32px;\n",
              "    }\n",
              "\n",
              "    .colab-df-convert:hover {\n",
              "      background-color: #E2EBFA;\n",
              "      box-shadow: 0px 1px 2px rgba(60, 64, 67, 0.3), 0px 1px 3px 1px rgba(60, 64, 67, 0.15);\n",
              "      fill: #174EA6;\n",
              "    }\n",
              "\n",
              "    [theme=dark] .colab-df-convert {\n",
              "      background-color: #3B4455;\n",
              "      fill: #D2E3FC;\n",
              "    }\n",
              "\n",
              "    [theme=dark] .colab-df-convert:hover {\n",
              "      background-color: #434B5C;\n",
              "      box-shadow: 0px 1px 3px 1px rgba(0, 0, 0, 0.15);\n",
              "      filter: drop-shadow(0px 1px 2px rgba(0, 0, 0, 0.3));\n",
              "      fill: #FFFFFF;\n",
              "    }\n",
              "  </style>\n",
              "\n",
              "      <script>\n",
              "        const buttonEl =\n",
              "          document.querySelector('#df-33eb0c2b-893f-4dbe-9f3e-5dc9634a306a button.colab-df-convert');\n",
              "        buttonEl.style.display =\n",
              "          google.colab.kernel.accessAllowed ? 'block' : 'none';\n",
              "\n",
              "        async function convertToInteractive(key) {\n",
              "          const element = document.querySelector('#df-33eb0c2b-893f-4dbe-9f3e-5dc9634a306a');\n",
              "          const dataTable =\n",
              "            await google.colab.kernel.invokeFunction('convertToInteractive',\n",
              "                                                     [key], {});\n",
              "          if (!dataTable) return;\n",
              "\n",
              "          const docLinkHtml = 'Like what you see? Visit the ' +\n",
              "            '<a target=\"_blank\" href=https://colab.research.google.com/notebooks/data_table.ipynb>data table notebook</a>'\n",
              "            + ' to learn more about interactive tables.';\n",
              "          element.innerHTML = '';\n",
              "          dataTable['output_type'] = 'display_data';\n",
              "          await google.colab.output.renderOutput(dataTable, element);\n",
              "          const docLink = document.createElement('div');\n",
              "          docLink.innerHTML = docLinkHtml;\n",
              "          element.appendChild(docLink);\n",
              "        }\n",
              "      </script>\n",
              "    </div>\n",
              "  </div>\n",
              "  "
            ]
          },
          "metadata": {},
          "execution_count": 17
        }
      ]
    },
    {
      "cell_type": "code",
      "source": [
        "df.info()"
      ],
      "metadata": {
        "colab": {
          "base_uri": "https://localhost:8080/"
        },
        "id": "TA1LZoBs14qz",
        "outputId": "c2c366e7-af55-465b-9eda-5b80038e3316"
      },
      "execution_count": null,
      "outputs": [
        {
          "output_type": "stream",
          "name": "stdout",
          "text": [
            "<class 'pandas.core.frame.DataFrame'>\n",
            "Int64Index: 198 entries, 3 to 210\n",
            "Data columns (total 7 columns):\n",
            " #   Column        Non-Null Count  Dtype         \n",
            "---  ------        --------------  -----         \n",
            " 0   unit          198 non-null    object        \n",
            " 1   value         198 non-null    int64         \n",
            " 2   type          198 non-null    object        \n",
            " 3   year_month    198 non-null    datetime64[ns]\n",
            " 4   year_harvest  198 non-null    int64         \n",
            " 5   product       198 non-null    object        \n",
            " 6   created_at    198 non-null    datetime64[ns]\n",
            "dtypes: datetime64[ns](2), int64(2), object(3)\n",
            "memory usage: 12.4+ KB\n"
          ]
        }
      ]
    },
    {
      "cell_type": "code",
      "source": [
        "df.to_csv('teste/testefinal.csv',index=True,index_label=id)"
      ],
      "metadata": {
        "id": "ijVkXJdK9U0s"
      },
      "execution_count": null,
      "outputs": []
    }
  ]
}